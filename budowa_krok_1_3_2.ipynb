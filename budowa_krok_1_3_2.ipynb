{
 "cells": [
  {
   "cell_type": "code",
   "execution_count": 107,
   "id": "fe26a7c4-ef1f-4f51-8e63-72585157a1db",
   "metadata": {},
   "outputs": [],
   "source": [
    "# Instalacje\n",
    "# !pip install NRCLex\n",
    "# !pip install contractions\n",
    "# !pip install nlpaug \n",
    "# !pip install transformers \n",
    "# !pip install deep_translator \n",
    "# !pip install tqdm\n",
    "# !pip install torch\n",
    "# !pip install symspellpy langdetect\n",
    "# !pip install sentencepiece\n",
    "\n",
    "# Pobieranie danych NLTK\n",
    "# nltk.download('sentiwordnet')\n",
    "# nltk.download('wordnet')\n",
    "# nltk.download('averaged_perceptron_tagger')\n",
    "# nltk.download('punkt')\n",
    "# nltk.download('vader_lexicon')\n",
    "# nltk.download('stopwords')\n",
    "\n",
    "# Ładowanie bibliotek\n",
    "import pandas as pd\n",
    "import string\n",
    "import re\n",
    "import random\n",
    "import tqdm\n",
    "import time\n",
    "import torch\n",
    "import seaborn as sns\n",
    "import matplotlib.pyplot as plt\n",
    "\n",
    "# Importy związane z NLP (Natural Language Processing)\n",
    "import nltk\n",
    "from nltk.tokenize import word_tokenize\n",
    "from nltk.corpus import stopwords, sentiwordnet as swn, wordnet\n",
    "from nltk.stem import WordNetLemmatizer\n",
    "from nltk.sentiment import SentimentIntensityAnalyzer\n",
    "from nltk import pos_tag\n",
    "from nltk import download\n",
    "\n",
    "# Importy związane z wykrywaniem języka\n",
    "from langdetect import detect\n",
    "\n",
    "# Importy do poprawiania literówek\n",
    "from symspellpy import SymSpell, Verbosity\n",
    "\n",
    "# Biblioteki do tłumaczenia\n",
    "from deep_translator import GoogleTranslator\n",
    "\n",
    "# Importy do analizy sentymentu\n",
    "from nrclex import NRCLex\n",
    "from textblob import TextBlob\n",
    "\n",
    "# Przetwarzanie tekstów\n",
    "import contractions\n",
    "\n",
    "# Importy do skali i przetwarzania danych\n",
    "from sklearn.preprocessing import StandardScaler, MinMaxScaler\n",
    "from sklearn.model_selection import train_test_split\n"
   ]
  },
  {
   "cell_type": "code",
   "execution_count": 108,
   "id": "34f8fd1d-751f-45e7-9875-ef169346d0ec",
   "metadata": {
    "id": "34f8fd1d-751f-45e7-9875-ef169346d0ec"
   },
   "outputs": [],
   "source": [
    "df=pd.read_csv(\"YoutubeCommentsDataSet.csv\")"
   ]
  },
  {
   "cell_type": "code",
   "execution_count": 109,
   "id": "b169530a-b774-4e8a-8ed8-93d03dc4d601",
   "metadata": {
    "colab": {
     "base_uri": "https://localhost:8080/",
     "height": 206
    },
    "id": "b169530a-b774-4e8a-8ed8-93d03dc4d601",
    "outputId": "8266a043-1c59-40cd-9fd1-1249f531c539"
   },
   "outputs": [
    {
     "data": {
      "text/html": [
       "<div>\n",
       "<style scoped>\n",
       "    .dataframe tbody tr th:only-of-type {\n",
       "        vertical-align: middle;\n",
       "    }\n",
       "\n",
       "    .dataframe tbody tr th {\n",
       "        vertical-align: top;\n",
       "    }\n",
       "\n",
       "    .dataframe thead th {\n",
       "        text-align: right;\n",
       "    }\n",
       "</style>\n",
       "<table border=\"1\" class=\"dataframe\">\n",
       "  <thead>\n",
       "    <tr style=\"text-align: right;\">\n",
       "      <th></th>\n",
       "      <th>Comment</th>\n",
       "      <th>Sentiment</th>\n",
       "    </tr>\n",
       "  </thead>\n",
       "  <tbody>\n",
       "    <tr>\n",
       "      <th>0</th>\n",
       "      <td>lets not forget that apple pay in 2014 require...</td>\n",
       "      <td>neutral</td>\n",
       "    </tr>\n",
       "    <tr>\n",
       "      <th>1</th>\n",
       "      <td>here in nz 50 of retailers don’t even have con...</td>\n",
       "      <td>negative</td>\n",
       "    </tr>\n",
       "    <tr>\n",
       "      <th>2</th>\n",
       "      <td>i will forever acknowledge this channel with t...</td>\n",
       "      <td>positive</td>\n",
       "    </tr>\n",
       "    <tr>\n",
       "      <th>3</th>\n",
       "      <td>whenever i go to a place that doesn’t take app...</td>\n",
       "      <td>negative</td>\n",
       "    </tr>\n",
       "    <tr>\n",
       "      <th>4</th>\n",
       "      <td>apple pay is so convenient secure and easy to ...</td>\n",
       "      <td>positive</td>\n",
       "    </tr>\n",
       "  </tbody>\n",
       "</table>\n",
       "</div>"
      ],
      "text/plain": [
       "                                             Comment Sentiment\n",
       "0  lets not forget that apple pay in 2014 require...   neutral\n",
       "1  here in nz 50 of retailers don’t even have con...  negative\n",
       "2  i will forever acknowledge this channel with t...  positive\n",
       "3  whenever i go to a place that doesn’t take app...  negative\n",
       "4  apple pay is so convenient secure and easy to ...  positive"
      ]
     },
     "execution_count": 109,
     "metadata": {},
     "output_type": "execute_result"
    }
   ],
   "source": [
    "#Analiza wizualna danych\n",
    "df.head()"
   ]
  },
  {
   "cell_type": "code",
   "execution_count": 110,
   "id": "8aa5d925-7154-4759-86ae-d77e2f900404",
   "metadata": {
    "colab": {
     "base_uri": "https://localhost:8080/"
    },
    "id": "8aa5d925-7154-4759-86ae-d77e2f900404",
    "outputId": "25744b1b-1cd4-46bc-a35b-c562b82bfc7b"
   },
   "outputs": [
    {
     "data": {
      "text/plain": [
       "['Comment', 'Sentiment']"
      ]
     },
     "execution_count": 110,
     "metadata": {},
     "output_type": "execute_result"
    }
   ],
   "source": [
    "df.columns.values.tolist()"
   ]
  },
  {
   "cell_type": "code",
   "execution_count": 111,
   "id": "b2ecad98-4d92-4aa8-8b50-a78608360939",
   "metadata": {
    "colab": {
     "base_uri": "https://localhost:8080/"
    },
    "id": "b2ecad98-4d92-4aa8-8b50-a78608360939",
    "outputId": "f7699a1a-000e-4ad1-ea9d-847f9af2bc1a"
   },
   "outputs": [
    {
     "name": "stdout",
     "output_type": "stream",
     "text": [
      "<class 'pandas.core.frame.DataFrame'>\n",
      "RangeIndex: 18408 entries, 0 to 18407\n",
      "Data columns (total 2 columns):\n",
      " #   Column     Non-Null Count  Dtype \n",
      "---  ------     --------------  ----- \n",
      " 0   Comment    18364 non-null  object\n",
      " 1   Sentiment  18408 non-null  object\n",
      "dtypes: object(2)\n",
      "memory usage: 287.8+ KB\n"
     ]
    }
   ],
   "source": [
    "df.info()"
   ]
  },
  {
   "cell_type": "code",
   "execution_count": 112,
   "id": "fd8c6573-8dce-408c-b2cd-e2583354ab8f",
   "metadata": {
    "id": "fd8c6573-8dce-408c-b2cd-e2583354ab8f"
   },
   "outputs": [],
   "source": [
    "#Widzimy że mamy puste komentarze, które posiadają sentyment - sprawdźmy jaki mają sentyment!"
   ]
  },
  {
   "cell_type": "code",
   "execution_count": 113,
   "id": "ce8cd38e-d904-4c25-8aa7-f628bd8b9ea4",
   "metadata": {
    "colab": {
     "base_uri": "https://localhost:8080/",
     "height": 1000
    },
    "id": "ce8cd38e-d904-4c25-8aa7-f628bd8b9ea4",
    "outputId": "2dc9d106-6a09-40af-b38e-3ee5824b917e"
   },
   "outputs": [
    {
     "data": {
      "text/html": [
       "<div>\n",
       "<style scoped>\n",
       "    .dataframe tbody tr th:only-of-type {\n",
       "        vertical-align: middle;\n",
       "    }\n",
       "\n",
       "    .dataframe tbody tr th {\n",
       "        vertical-align: top;\n",
       "    }\n",
       "\n",
       "    .dataframe thead th {\n",
       "        text-align: right;\n",
       "    }\n",
       "</style>\n",
       "<table border=\"1\" class=\"dataframe\">\n",
       "  <thead>\n",
       "    <tr style=\"text-align: right;\">\n",
       "      <th></th>\n",
       "      <th>Comment</th>\n",
       "      <th>Sentiment</th>\n",
       "    </tr>\n",
       "  </thead>\n",
       "  <tbody>\n",
       "    <tr>\n",
       "      <th>602</th>\n",
       "      <td>NaN</td>\n",
       "      <td>negative</td>\n",
       "    </tr>\n",
       "    <tr>\n",
       "      <th>716</th>\n",
       "      <td>NaN</td>\n",
       "      <td>neutral</td>\n",
       "    </tr>\n",
       "    <tr>\n",
       "      <th>812</th>\n",
       "      <td>NaN</td>\n",
       "      <td>positive</td>\n",
       "    </tr>\n",
       "    <tr>\n",
       "      <th>1021</th>\n",
       "      <td>NaN</td>\n",
       "      <td>positive</td>\n",
       "    </tr>\n",
       "    <tr>\n",
       "      <th>1023</th>\n",
       "      <td>NaN</td>\n",
       "      <td>neutral</td>\n",
       "    </tr>\n",
       "    <tr>\n",
       "      <th>1041</th>\n",
       "      <td>NaN</td>\n",
       "      <td>positive</td>\n",
       "    </tr>\n",
       "    <tr>\n",
       "      <th>1094</th>\n",
       "      <td>NaN</td>\n",
       "      <td>positive</td>\n",
       "    </tr>\n",
       "    <tr>\n",
       "      <th>2443</th>\n",
       "      <td>NaN</td>\n",
       "      <td>positive</td>\n",
       "    </tr>\n",
       "    <tr>\n",
       "      <th>3014</th>\n",
       "      <td>NaN</td>\n",
       "      <td>positive</td>\n",
       "    </tr>\n",
       "    <tr>\n",
       "      <th>3235</th>\n",
       "      <td>NaN</td>\n",
       "      <td>positive</td>\n",
       "    </tr>\n",
       "    <tr>\n",
       "      <th>4280</th>\n",
       "      <td>NaN</td>\n",
       "      <td>positive</td>\n",
       "    </tr>\n",
       "    <tr>\n",
       "      <th>4345</th>\n",
       "      <td>NaN</td>\n",
       "      <td>neutral</td>\n",
       "    </tr>\n",
       "    <tr>\n",
       "      <th>4346</th>\n",
       "      <td>NaN</td>\n",
       "      <td>positive</td>\n",
       "    </tr>\n",
       "    <tr>\n",
       "      <th>4347</th>\n",
       "      <td>NaN</td>\n",
       "      <td>neutral</td>\n",
       "    </tr>\n",
       "    <tr>\n",
       "      <th>4348</th>\n",
       "      <td>NaN</td>\n",
       "      <td>neutral</td>\n",
       "    </tr>\n",
       "    <tr>\n",
       "      <th>4350</th>\n",
       "      <td>NaN</td>\n",
       "      <td>neutral</td>\n",
       "    </tr>\n",
       "    <tr>\n",
       "      <th>5693</th>\n",
       "      <td>NaN</td>\n",
       "      <td>neutral</td>\n",
       "    </tr>\n",
       "    <tr>\n",
       "      <th>5697</th>\n",
       "      <td>NaN</td>\n",
       "      <td>positive</td>\n",
       "    </tr>\n",
       "    <tr>\n",
       "      <th>5699</th>\n",
       "      <td>NaN</td>\n",
       "      <td>positive</td>\n",
       "    </tr>\n",
       "    <tr>\n",
       "      <th>5923</th>\n",
       "      <td>NaN</td>\n",
       "      <td>positive</td>\n",
       "    </tr>\n",
       "    <tr>\n",
       "      <th>7346</th>\n",
       "      <td>NaN</td>\n",
       "      <td>positive</td>\n",
       "    </tr>\n",
       "    <tr>\n",
       "      <th>7347</th>\n",
       "      <td>NaN</td>\n",
       "      <td>positive</td>\n",
       "    </tr>\n",
       "    <tr>\n",
       "      <th>7348</th>\n",
       "      <td>NaN</td>\n",
       "      <td>positive</td>\n",
       "    </tr>\n",
       "    <tr>\n",
       "      <th>8353</th>\n",
       "      <td>NaN</td>\n",
       "      <td>positive</td>\n",
       "    </tr>\n",
       "    <tr>\n",
       "      <th>8666</th>\n",
       "      <td>NaN</td>\n",
       "      <td>positive</td>\n",
       "    </tr>\n",
       "    <tr>\n",
       "      <th>8673</th>\n",
       "      <td>NaN</td>\n",
       "      <td>positive</td>\n",
       "    </tr>\n",
       "    <tr>\n",
       "      <th>8674</th>\n",
       "      <td>NaN</td>\n",
       "      <td>neutral</td>\n",
       "    </tr>\n",
       "    <tr>\n",
       "      <th>9050</th>\n",
       "      <td>NaN</td>\n",
       "      <td>positive</td>\n",
       "    </tr>\n",
       "    <tr>\n",
       "      <th>9051</th>\n",
       "      <td>NaN</td>\n",
       "      <td>positive</td>\n",
       "    </tr>\n",
       "    <tr>\n",
       "      <th>9711</th>\n",
       "      <td>NaN</td>\n",
       "      <td>positive</td>\n",
       "    </tr>\n",
       "    <tr>\n",
       "      <th>10484</th>\n",
       "      <td>NaN</td>\n",
       "      <td>positive</td>\n",
       "    </tr>\n",
       "    <tr>\n",
       "      <th>10491</th>\n",
       "      <td>NaN</td>\n",
       "      <td>positive</td>\n",
       "    </tr>\n",
       "    <tr>\n",
       "      <th>10492</th>\n",
       "      <td>NaN</td>\n",
       "      <td>neutral</td>\n",
       "    </tr>\n",
       "    <tr>\n",
       "      <th>10814</th>\n",
       "      <td>NaN</td>\n",
       "      <td>positive</td>\n",
       "    </tr>\n",
       "    <tr>\n",
       "      <th>11113</th>\n",
       "      <td>NaN</td>\n",
       "      <td>neutral</td>\n",
       "    </tr>\n",
       "    <tr>\n",
       "      <th>11222</th>\n",
       "      <td>NaN</td>\n",
       "      <td>positive</td>\n",
       "    </tr>\n",
       "    <tr>\n",
       "      <th>11225</th>\n",
       "      <td>NaN</td>\n",
       "      <td>positive</td>\n",
       "    </tr>\n",
       "    <tr>\n",
       "      <th>11226</th>\n",
       "      <td>NaN</td>\n",
       "      <td>neutral</td>\n",
       "    </tr>\n",
       "    <tr>\n",
       "      <th>11227</th>\n",
       "      <td>NaN</td>\n",
       "      <td>neutral</td>\n",
       "    </tr>\n",
       "    <tr>\n",
       "      <th>11501</th>\n",
       "      <td>NaN</td>\n",
       "      <td>positive</td>\n",
       "    </tr>\n",
       "    <tr>\n",
       "      <th>11503</th>\n",
       "      <td>NaN</td>\n",
       "      <td>neutral</td>\n",
       "    </tr>\n",
       "    <tr>\n",
       "      <th>11841</th>\n",
       "      <td>NaN</td>\n",
       "      <td>positive</td>\n",
       "    </tr>\n",
       "    <tr>\n",
       "      <th>16361</th>\n",
       "      <td>NaN</td>\n",
       "      <td>positive</td>\n",
       "    </tr>\n",
       "    <tr>\n",
       "      <th>16643</th>\n",
       "      <td>NaN</td>\n",
       "      <td>positive</td>\n",
       "    </tr>\n",
       "  </tbody>\n",
       "</table>\n",
       "</div>"
      ],
      "text/plain": [
       "      Comment Sentiment\n",
       "602       NaN  negative\n",
       "716       NaN   neutral\n",
       "812       NaN  positive\n",
       "1021      NaN  positive\n",
       "1023      NaN   neutral\n",
       "1041      NaN  positive\n",
       "1094      NaN  positive\n",
       "2443      NaN  positive\n",
       "3014      NaN  positive\n",
       "3235      NaN  positive\n",
       "4280      NaN  positive\n",
       "4345      NaN   neutral\n",
       "4346      NaN  positive\n",
       "4347      NaN   neutral\n",
       "4348      NaN   neutral\n",
       "4350      NaN   neutral\n",
       "5693      NaN   neutral\n",
       "5697      NaN  positive\n",
       "5699      NaN  positive\n",
       "5923      NaN  positive\n",
       "7346      NaN  positive\n",
       "7347      NaN  positive\n",
       "7348      NaN  positive\n",
       "8353      NaN  positive\n",
       "8666      NaN  positive\n",
       "8673      NaN  positive\n",
       "8674      NaN   neutral\n",
       "9050      NaN  positive\n",
       "9051      NaN  positive\n",
       "9711      NaN  positive\n",
       "10484     NaN  positive\n",
       "10491     NaN  positive\n",
       "10492     NaN   neutral\n",
       "10814     NaN  positive\n",
       "11113     NaN   neutral\n",
       "11222     NaN  positive\n",
       "11225     NaN  positive\n",
       "11226     NaN   neutral\n",
       "11227     NaN   neutral\n",
       "11501     NaN  positive\n",
       "11503     NaN   neutral\n",
       "11841     NaN  positive\n",
       "16361     NaN  positive\n",
       "16643     NaN  positive"
      ]
     },
     "execution_count": 113,
     "metadata": {},
     "output_type": "execute_result"
    }
   ],
   "source": [
    "null_comments = df[df[\"Comment\"].isnull()]\n",
    "null_comments"
   ]
  },
  {
   "cell_type": "code",
   "execution_count": 114,
   "id": "c757d8ab-8929-4cde-b59e-58f478f2b88c",
   "metadata": {
    "id": "c757d8ab-8929-4cde-b59e-58f478f2b88c"
   },
   "outputs": [],
   "source": [
    "#Jak widzimy nie ma tutaj żadnego schematu, z tego powodu usuniemy te komentarze, ponieważ nie mamy jak analizować ich sentymentu"
   ]
  },
  {
   "cell_type": "markdown",
   "id": "FFwHCf5pT2gO",
   "metadata": {
    "id": "FFwHCf5pT2gO"
   },
   "source": [
    "**WALIDACJA**\n",
    "\n",
    "\n",
    "---\n",
    "Dobre posunięcie, z usunięciem nic niewnoszących danych 👍\n"
   ]
  },
  {
   "cell_type": "markdown",
   "id": "01f8b625-e3a2-4bcb-b3ce-22458f886baa",
   "metadata": {},
   "source": [
    "**BUDOWA**\n",
    "\n",
    "---\n",
    "Ostatecznie postanowiliśmy nie usuwać danych NA aby nie stracić możliwości nauczenia modelu radzenia sobie z takimi danymi"
   ]
  },
  {
   "cell_type": "code",
   "execution_count": 117,
   "id": "d4df9fba-5171-4c77-8f0b-023614747ff6",
   "metadata": {
    "colab": {
     "base_uri": "https://localhost:8080/"
    },
    "id": "d4df9fba-5171-4c77-8f0b-023614747ff6",
    "outputId": "ab8b7087-7b05-4c23-b83d-6918180c740e"
   },
   "outputs": [
    {
     "name": "stdout",
     "output_type": "stream",
     "text": [
      "<class 'pandas.core.frame.DataFrame'>\n",
      "RangeIndex: 18408 entries, 0 to 18407\n",
      "Data columns (total 2 columns):\n",
      " #   Column     Non-Null Count  Dtype \n",
      "---  ------     --------------  ----- \n",
      " 0   Comment    18364 non-null  object\n",
      " 1   Sentiment  18408 non-null  object\n",
      "dtypes: object(2)\n",
      "memory usage: 287.8+ KB\n"
     ]
    }
   ],
   "source": [
    "df.info()"
   ]
  },
  {
   "cell_type": "code",
   "execution_count": 118,
   "id": "9c91ffb8-450f-4f4c-b7af-ae1551768c20",
   "metadata": {},
   "outputs": [],
   "source": [
    "df['Clean_Comment'] = df['Comment'].str.replace(f\"[{string.punctuation}]\", \"\", regex=True)\n",
    "import string\n",
    "import pandas as pd\n",
    "\n",
    "# Dla komentarzy NA zamieniamy je na pusty komentarz ''\n",
    "df['Clean_Comment'] = df['Comment'].fillna('').apply(lambda x: ''.join([char.lower() for char in x if char not in string.punctuation]))\n",
    "\n",
    "lemmatizer = WordNetLemmatizer()\n",
    "stop_words = set(stopwords.words('english'))\n",
    "\n",
    "def is_emotional(word):\n",
    "    emotions = NRCLex(word).affect_frequencies\n",
    "    return any(value > 0 for value in emotions.values())\n",
    "\n",
    "filtered_stop_words = {word for word in stop_words if not is_emotional(word)}\n",
    "\n",
    "def preprocess_text(text):\n",
    "    if pd.isna(text):\n",
    "        return \"\"\n",
    "\n",
    "    text = text.lower()\n",
    "\n",
    "    text = contractions.fix(text)\n",
    "\n",
    "    tokens = word_tokenize(text)\n",
    "\n",
    "    tokens = [word for word in tokens if word not in stop_words or word == \"not\"]\n",
    "\n",
    "    tokens = [lemmatizer.lemmatize(word) for word in tokens]\n",
    "\n",
    "    tokens = [word for word in tokens if word not in punctuation]\n",
    "\n",
    "    return \" \".join(tokens)\n",
    "df['Clean_Comment'] = df['Comment'].apply(preprocess_text)\n",
    "df['Tokenized_Comment'] = df['Clean_Comment'].apply(lambda x: x.split())"
   ]
  },
  {
   "cell_type": "code",
   "execution_count": 119,
   "id": "80c68ccb-ed78-40e9-8661-dd18bd06b90e",
   "metadata": {},
   "outputs": [
    {
     "name": "stdout",
     "output_type": "stream",
     "text": [
      "                                             Comment  \\\n",
      "0  lets not forget that apple pay in 2014 require...   \n",
      "1  here in nz 50 of retailers don’t even have con...   \n",
      "2  i will forever acknowledge this channel with t...   \n",
      "3  whenever i go to a place that doesn’t take app...   \n",
      "4  apple pay is so convenient secure and easy to ...   \n",
      "\n",
      "                                       Clean_Comment  \n",
      "0  let a not forget apple pay 2014 required brand...  \n",
      "1  no of retailer not even contactless credit car...  \n",
      "2  forever acknowledge channel help lesson idea e...  \n",
      "3  whenever go place not take apple pay not happe...  \n",
      "4  apple pay convenient secure easy use used kore...  \n"
     ]
    }
   ],
   "source": [
    "\n",
    "\n",
    "\n",
    "# Inicjalizujemy SymSpell\n",
    "sym_spell = SymSpell(max_dictionary_edit_distance=2, prefix_length=7)\n",
    "dictionary_path = \"frequency_dictionary_en_82_765.txt\"\n",
    "sym_spell.load_dictionary(dictionary_path, term_index=0, count_index=1)\n",
    "\n",
    "# Inicjujemy lematyzator i stopwords\n",
    "lemmatizer = WordNetLemmatizer()\n",
    "stop_words = set(stopwords.words('english'))\n",
    "\n",
    "# Funkcja do wykrywania języka (usuwamy komentarze, które nie są po angielsku)\n",
    "def is_english(text):\n",
    "    try:\n",
    "        return detect(text) == 'en'\n",
    "    except:\n",
    "        return False\n",
    "\n",
    "# Funkcja do usuwania literówek za pomocą SymSpell\n",
    "def correct_spelling(text):\n",
    "    words = text.split()\n",
    "    corrected_words = []\n",
    "    \n",
    "    for word in words:\n",
    "        suggestions = sym_spell.lookup(word, Verbosity.CLOSEST, max_edit_distance=2)\n",
    "        if suggestions:\n",
    "            corrected_words.append(suggestions[0].term)  # Wybieramy najbliższe słowo\n",
    "        else:\n",
    "            corrected_words.append(word)\n",
    "    \n",
    "    return \" \".join(corrected_words)\n",
    "\n",
    "# Usuwamy nieangielskie komentarze\n",
    "df['Clean_Comment'] = df['Comment'].apply(lambda x: x if is_english(x) else None)\n",
    "\n",
    "# Funkcja do przetwarzania tekstu\n",
    "def preprocess_text(text):\n",
    "    if pd.isna(text):\n",
    "        return \"\"\n",
    "    \n",
    "    # Zamiana na małe litery\n",
    "    text = text.lower()\n",
    "    \n",
    "    # Rozwiązywanie skrótów (np. don't -> do not)\n",
    "    text = contractions.fix(text)\n",
    "    \n",
    "    # Tokenizacja\n",
    "    tokens = word_tokenize(text)\n",
    "    \n",
    "    # Usuwanie stopwords\n",
    "    tokens = [word for word in tokens if (word not in stop_words or word == \"not\")]\n",
    "    \n",
    "    # Lematyzacja\n",
    "    tokens = [lemmatizer.lemmatize(word) for word in tokens ]\n",
    "    \n",
    "    # Usuwanie znaków interpunkcyjnych\n",
    "    tokens = [word for word in tokens if word not in string.punctuation]\n",
    "    \n",
    "    # Poprawianie literówek\n",
    "    text = correct_spelling(\" \".join(tokens))\n",
    "    \n",
    "    return text\n",
    "\n",
    "# Przetwarzanie danych\n",
    "df['Clean_Comment'] = df['Clean_Comment'].apply(preprocess_text)\n",
    "df['Tokenized_Comment'] = df['Clean_Comment'].apply(lambda x: x.split())\n",
    "\n",
    "# Wyświetlenie przetworzonych danych\n",
    "print(df[['Comment', 'Clean_Comment']].head())\n"
   ]
  },
  {
   "cell_type": "code",
   "execution_count": 120,
   "id": "cd84d613-a114-4466-b0ac-b9113fde4ff4",
   "metadata": {},
   "outputs": [],
   "source": [
    "df[\"Comment\"] = df[\"Clean_Comment\"]\n",
    "df.drop(columns=[\"Clean_Comment\"], inplace=True)  # Usuwamy starą kolumnę"
   ]
  },
  {
   "cell_type": "code",
   "execution_count": 121,
   "id": "a083807d-8f91-4a93-b895-167d674ed5ea",
   "metadata": {
    "id": "a083807d-8f91-4a93-b895-167d674ed5ea"
   },
   "outputs": [],
   "source": [
    "#Analiza ilościowa danych"
   ]
  },
  {
   "cell_type": "code",
   "execution_count": 122,
   "id": "85b3463a-f679-4547-acb1-57f05077f945",
   "metadata": {
    "colab": {
     "base_uri": "https://localhost:8080/",
     "height": 431
    },
    "id": "85b3463a-f679-4547-acb1-57f05077f945",
    "outputId": "a1d5ebdd-bfd3-4238-f047-4384bdcadbfe"
   },
   "outputs": [
    {
     "data": {
      "image/png": "[encoded data removed]",
      "text/plain": [
       "<Figure size 800x500 with 1 Axes>"
      ]
     },
     "metadata": {},
     "output_type": "display_data"
    }
   ],
   "source": [
    "plt.figure(figsize=(8, 5))\n",
    "ax = sns.countplot(x=df[\"Sentiment\"])\n",
    "for p in ax.patches:\n",
    "    ax.annotate(f'{int(p.get_height())}',\n",
    "                (p.get_x() + p.get_width() / 2, p.get_height()),\n",
    "                ha='center', va='bottom', fontsize=12, fontweight='bold')\n",
    "plt.title(\"Sentiment Distribution\")\n",
    "plt.xlabel(\"Sentiment\")\n",
    "plt.ylabel(\"Count\")\n",
    "plt.show()"
   ]
  },
  {
   "cell_type": "markdown",
   "id": "rB3QkgtCUWhF",
   "metadata": {
    "id": "rB3QkgtCUWhF"
   },
   "source": [
    "**WALIDACJA**\n",
    "\n",
    "\n",
    "---\n",
    "\n",
    "Zastanówcie się nad zbalansowaniem danych. Rekordów \"positive\" jest znacznie więcej niż \"negative\". Może to powodować sytuację, że model będzie ignorował negatywne komentarze. W takim wypadku konieczne jest zbalansowanie danych np. metodą undersamplingu lub oversamplingu."
   ]
  },
  {
   "cell_type": "markdown",
   "id": "48638d08-8906-4412-802e-e6c2ca56d568",
   "metadata": {},
   "source": [
    "**Budowa**\n",
    "\n",
    "\n",
    "---\n",
    "\n",
    "Świadomie zdecydowaliśmy się nie balansować danych, aby nie zaburzyć rzeczywistej struktury populacji. Naszym celem jest stworzenie modelu, który będzie odzwierciedlał faktyczny rozkład klas w danych i nauczył się odpowiednio reagować na naturalne proporcje między pozytywnymi a negatywnymi przykładami."
   ]
  },
  {
   "cell_type": "code",
   "execution_count": 125,
   "id": "fc2b68ac-beb4-4afd-bd51-94b29dbe8b10",
   "metadata": {
    "colab": {
     "base_uri": "https://localhost:8080/",
     "height": 206
    },
    "id": "fc2b68ac-beb4-4afd-bd51-94b29dbe8b10",
    "outputId": "8e67e762-7121-4318-bcba-958c5302049c"
   },
   "outputs": [
    {
     "data": {
      "text/html": [
       "<div>\n",
       "<style scoped>\n",
       "    .dataframe tbody tr th:only-of-type {\n",
       "        vertical-align: middle;\n",
       "    }\n",
       "\n",
       "    .dataframe tbody tr th {\n",
       "        vertical-align: top;\n",
       "    }\n",
       "\n",
       "    .dataframe thead th {\n",
       "        text-align: right;\n",
       "    }\n",
       "</style>\n",
       "<table border=\"1\" class=\"dataframe\">\n",
       "  <thead>\n",
       "    <tr style=\"text-align: right;\">\n",
       "      <th></th>\n",
       "      <th>Comment</th>\n",
       "      <th>Sentiment</th>\n",
       "      <th>Tokenized_Comment</th>\n",
       "      <th>length</th>\n",
       "    </tr>\n",
       "  </thead>\n",
       "  <tbody>\n",
       "    <tr>\n",
       "      <th>0</th>\n",
       "      <td>let a not forget apple pay 2014 required brand...</td>\n",
       "      <td>neutral</td>\n",
       "      <td>[let, a, not, forget, apple, pay, 2014, requir...</td>\n",
       "      <td>237</td>\n",
       "    </tr>\n",
       "    <tr>\n",
       "      <th>1</th>\n",
       "      <td>no of retailer not even contactless credit car...</td>\n",
       "      <td>negative</td>\n",
       "      <td>[no, of, retailer, not, even, contactless, cre...</td>\n",
       "      <td>109</td>\n",
       "    </tr>\n",
       "    <tr>\n",
       "      <th>2</th>\n",
       "      <td>forever acknowledge channel help lesson idea e...</td>\n",
       "      <td>positive</td>\n",
       "      <td>[forever, acknowledge, channel, help, lesson, ...</td>\n",
       "      <td>105</td>\n",
       "    </tr>\n",
       "    <tr>\n",
       "      <th>3</th>\n",
       "      <td>whenever go place not take apple pay not happe...</td>\n",
       "      <td>negative</td>\n",
       "      <td>[whenever, go, place, not, take, apple, pay, n...</td>\n",
       "      <td>295</td>\n",
       "    </tr>\n",
       "    <tr>\n",
       "      <th>4</th>\n",
       "      <td>apple pay convenient secure easy use used kore...</td>\n",
       "      <td>positive</td>\n",
       "      <td>[apple, pay, convenient, secure, easy, use, us...</td>\n",
       "      <td>91</td>\n",
       "    </tr>\n",
       "  </tbody>\n",
       "</table>\n",
       "</div>"
      ],
      "text/plain": [
       "                                             Comment Sentiment  \\\n",
       "0  let a not forget apple pay 2014 required brand...   neutral   \n",
       "1  no of retailer not even contactless credit car...  negative   \n",
       "2  forever acknowledge channel help lesson idea e...  positive   \n",
       "3  whenever go place not take apple pay not happe...  negative   \n",
       "4  apple pay convenient secure easy use used kore...  positive   \n",
       "\n",
       "                                   Tokenized_Comment  length  \n",
       "0  [let, a, not, forget, apple, pay, 2014, requir...     237  \n",
       "1  [no, of, retailer, not, even, contactless, cre...     109  \n",
       "2  [forever, acknowledge, channel, help, lesson, ...     105  \n",
       "3  [whenever, go, place, not, take, apple, pay, n...     295  \n",
       "4  [apple, pay, convenient, secure, easy, use, us...      91  "
      ]
     },
     "execution_count": 125,
     "metadata": {},
     "output_type": "execute_result"
    }
   ],
   "source": [
    "df[\"length\"]=df[\"Comment\"].apply(len)\n",
    "df.head()"
   ]
  },
  {
   "cell_type": "code",
   "execution_count": 126,
   "id": "58ce3404-7a93-4045-97e0-eb4772512953",
   "metadata": {
    "id": "58ce3404-7a93-4045-97e0-eb4772512953"
   },
   "outputs": [],
   "source": [
    "#Dzielimy komentarze na: bardzo krótkie, krótkie, średnie oraz długie"
   ]
  },
  {
   "cell_type": "code",
   "execution_count": 127,
   "id": "721a0d90-da7f-4c8c-926d-cb7a89f2bbad",
   "metadata": {
    "id": "721a0d90-da7f-4c8c-926d-cb7a89f2bbad"
   },
   "outputs": [],
   "source": [
    "bins = [0,100, 250, 1000, float(\"inf\")]\n",
    "labels = [\"0-100\",\"100-250\", \"250-1000\", \"1000+\"]\n",
    "\n",
    "df[\"comment_length_bin\"] = pd.cut(df[\"length\"], bins=bins, labels=labels, right=False)\n"
   ]
  },
  {
   "cell_type": "code",
   "execution_count": 128,
   "id": "e90ec346-d312-41f7-a54b-0f61361facf2",
   "metadata": {
    "colab": {
     "base_uri": "https://localhost:8080/",
     "height": 436
    },
    "id": "e90ec346-d312-41f7-a54b-0f61361facf2",
    "outputId": "20fe88fe-36b6-461a-e20c-6fc9570c29a3"
   },
   "outputs": [
    {
     "data": {
      "image/png": "[encoded data removed]",
      "text/plain": [
       "<Figure size 800x500 with 1 Axes>"
      ]
     },
     "metadata": {},
     "output_type": "display_data"
    }
   ],
   "source": [
    "plt.figure(figsize=(8, 5))\n",
    "sns.countplot(x=df[\"comment_length_bin\"], order=labels)\n",
    "plt.title(\"Comment Length Distribution \")\n",
    "plt.xlabel(\"Comment Length Range\")\n",
    "plt.ylabel(\"Count\")\n",
    "plt.show()"
   ]
  },
  {
   "cell_type": "markdown",
   "id": "75BDejKEVFln",
   "metadata": {
    "id": "75BDejKEVFln"
   },
   "source": [
    "**WALIDACJA**\n",
    "\n",
    "\n",
    "---\n",
    "\n",
    "Jakieś wnioski? 🤔"
   ]
  },
  {
   "cell_type": "code",
   "execution_count": 130,
   "id": "5fd4a123-a8e3-4aa8-8fba-bef547a419d1",
   "metadata": {
    "colab": {
     "base_uri": "https://localhost:8080/",
     "height": 442
    },
    "id": "5fd4a123-a8e3-4aa8-8fba-bef547a419d1",
    "outputId": "10c2f669-1cc7-4be4-d1d0-2dbbea5a9b2a"
   },
   "outputs": [
    {
     "data": {
      "image/png": "[encoded data removed]",
      "text/plain": [
       "<Figure size 800x500 with 1 Axes>"
      ]
     },
     "metadata": {},
     "output_type": "display_data"
    }
   ],
   "source": [
    "plt.figure(figsize=(8, 5))\n",
    "sns.boxplot(x=\"Sentiment\", y=\"length\", data=df)\n",
    "plt.yscale(\"log\")\n",
    "plt.title(\"Comment Length by Sentiment\")\n",
    "plt.xlabel(\"Sentiment\")\n",
    "plt.ylabel(\"Comment Length\")\n",
    "plt.show()\n"
   ]
  },
  {
   "cell_type": "markdown",
   "id": "wmu1YnOjTtTq",
   "metadata": {
    "id": "wmu1YnOjTtTq"
   },
   "source": [
    "**WALIDACJA**\n",
    "\n",
    "\n",
    "---\n",
    "\n",
    "Na wykresie widać dużo wartości odstających - gdyby było ich mniej dobrze byłoby je usunąć/zamienić na wartości z dolnej granocy. Jednak przy tak dużej ilości trzeba się zastanowić, czy jest to słuszne rozwiązanie - czy nie wpłynie na skuteczność modelu"
   ]
  },
  {
   "cell_type": "markdown",
   "id": "4474179e-f1ca-4573-b283-0bfa73b018a0",
   "metadata": {},
   "source": [
    "**BUDOWA**\n",
    "\n",
    "\n",
    "---\n",
    "\n",
    "Podjęliśmy decyzję o pozostaniu przy oryginalnych danych, naturalnym dla danych typu komentarzy jest, że najwięcej jest tych krótszych w związku z czym nie będziemy zmieniać populacji."
   ]
  },
  {
   "cell_type": "code",
   "execution_count": 133,
   "id": "ce49b7bb",
   "metadata": {
    "id": "ce49b7bb",
    "scrolled": true
   },
   "outputs": [],
   "source": [
    "## VADER\n",
    "#Wykorzystujemy bibliotekę vader która analizuje sentyment wypowiedzi na podstawie użytych w nich słów, emotikonów oraz znaków interpunkcyjnych np. \"!!!\"\n",
    "#Poszczególne kolumny vader_pos, vader_neg, vader_neu, vader_score oznaczają odpowiednio:\n",
    "#Odsetek negatywnych emocji (wartość od 0 do 1).\n",
    "#Odsetek neutralnych emocji (wartość od 0 do 1).\n",
    "#Odsetek pozytywnych emocji (wartość od 0 do 1).\n",
    "#Złożony wynik sentymentu (od -1 do +1)."
   ]
  },
  {
   "cell_type": "code",
   "execution_count": 134,
   "id": "eb4720e3",
   "metadata": {
    "id": "eb4720e3"
   },
   "outputs": [],
   "source": [
    "sia = SentimentIntensityAnalyzer()"
   ]
  },
  {
   "cell_type": "code",
   "execution_count": 135,
   "id": "cac151b1",
   "metadata": {
    "id": "cac151b1"
   },
   "outputs": [],
   "source": [
    "def count_sentiment_words(comment):\n",
    "    scores = sia.polarity_scores(comment)\n",
    "    return scores['pos'], scores['neg'], scores['neu'], scores['compound']"
   ]
  },
  {
   "cell_type": "code",
   "execution_count": 136,
   "id": "a67cf0a3",
   "metadata": {
    "id": "a67cf0a3"
   },
   "outputs": [],
   "source": [
    "df[['vader_pos', 'vader_neg','vader_neu', 'vader_score']] = df['Comment'].apply(lambda x: pd.Series(count_sentiment_words(x)))"
   ]
  },
  {
   "cell_type": "code",
   "execution_count": 137,
   "id": "1c13c9d6",
   "metadata": {
    "colab": {
     "base_uri": "https://localhost:8080/",
     "height": 521
    },
    "id": "1c13c9d6",
    "outputId": "c1e92c4e-6e3c-44b9-d171-e5fa075eae32"
   },
   "outputs": [
    {
     "data": {
      "text/html": [
       "<div>\n",
       "<style scoped>\n",
       "    .dataframe tbody tr th:only-of-type {\n",
       "        vertical-align: middle;\n",
       "    }\n",
       "\n",
       "    .dataframe tbody tr th {\n",
       "        vertical-align: top;\n",
       "    }\n",
       "\n",
       "    .dataframe thead th {\n",
       "        text-align: right;\n",
       "    }\n",
       "</style>\n",
       "<table border=\"1\" class=\"dataframe\">\n",
       "  <thead>\n",
       "    <tr style=\"text-align: right;\">\n",
       "      <th></th>\n",
       "      <th>Comment</th>\n",
       "      <th>Sentiment</th>\n",
       "      <th>Tokenized_Comment</th>\n",
       "      <th>length</th>\n",
       "      <th>comment_length_bin</th>\n",
       "      <th>vader_pos</th>\n",
       "      <th>vader_neg</th>\n",
       "      <th>vader_neu</th>\n",
       "      <th>vader_score</th>\n",
       "    </tr>\n",
       "  </thead>\n",
       "  <tbody>\n",
       "    <tr>\n",
       "      <th>0</th>\n",
       "      <td>let a not forget apple pay 2014 required brand...</td>\n",
       "      <td>neutral</td>\n",
       "      <td>[let, a, not, forget, apple, pay, 2014, requir...</td>\n",
       "      <td>237</td>\n",
       "      <td>100-250</td>\n",
       "      <td>0.261</td>\n",
       "      <td>0.000</td>\n",
       "      <td>0.739</td>\n",
       "      <td>0.7401</td>\n",
       "    </tr>\n",
       "    <tr>\n",
       "      <th>1</th>\n",
       "      <td>no of retailer not even contactless credit car...</td>\n",
       "      <td>negative</td>\n",
       "      <td>[no, of, retailer, not, even, contactless, cre...</td>\n",
       "      <td>109</td>\n",
       "      <td>100-250</td>\n",
       "      <td>0.291</td>\n",
       "      <td>0.218</td>\n",
       "      <td>0.491</td>\n",
       "      <td>0.4434</td>\n",
       "    </tr>\n",
       "    <tr>\n",
       "      <th>2</th>\n",
       "      <td>forever acknowledge channel help lesson idea e...</td>\n",
       "      <td>positive</td>\n",
       "      <td>[forever, acknowledge, channel, help, lesson, ...</td>\n",
       "      <td>105</td>\n",
       "      <td>100-250</td>\n",
       "      <td>0.527</td>\n",
       "      <td>0.000</td>\n",
       "      <td>0.473</td>\n",
       "      <td>0.8795</td>\n",
       "    </tr>\n",
       "    <tr>\n",
       "      <th>3</th>\n",
       "      <td>whenever go place not take apple pay not happe...</td>\n",
       "      <td>negative</td>\n",
       "      <td>[whenever, go, place, not, take, apple, pay, n...</td>\n",
       "      <td>295</td>\n",
       "      <td>250-1000</td>\n",
       "      <td>0.079</td>\n",
       "      <td>0.255</td>\n",
       "      <td>0.666</td>\n",
       "      <td>-0.8608</td>\n",
       "    </tr>\n",
       "    <tr>\n",
       "      <th>4</th>\n",
       "      <td>apple pay convenient secure easy use used kore...</td>\n",
       "      <td>positive</td>\n",
       "      <td>[apple, pay, convenient, secure, easy, use, us...</td>\n",
       "      <td>91</td>\n",
       "      <td>0-100</td>\n",
       "      <td>0.409</td>\n",
       "      <td>0.073</td>\n",
       "      <td>0.518</td>\n",
       "      <td>0.7579</td>\n",
       "    </tr>\n",
       "  </tbody>\n",
       "</table>\n",
       "</div>"
      ],
      "text/plain": [
       "                                             Comment Sentiment  \\\n",
       "0  let a not forget apple pay 2014 required brand...   neutral   \n",
       "1  no of retailer not even contactless credit car...  negative   \n",
       "2  forever acknowledge channel help lesson idea e...  positive   \n",
       "3  whenever go place not take apple pay not happe...  negative   \n",
       "4  apple pay convenient secure easy use used kore...  positive   \n",
       "\n",
       "                                   Tokenized_Comment  length  \\\n",
       "0  [let, a, not, forget, apple, pay, 2014, requir...     237   \n",
       "1  [no, of, retailer, not, even, contactless, cre...     109   \n",
       "2  [forever, acknowledge, channel, help, lesson, ...     105   \n",
       "3  [whenever, go, place, not, take, apple, pay, n...     295   \n",
       "4  [apple, pay, convenient, secure, easy, use, us...      91   \n",
       "\n",
       "  comment_length_bin  vader_pos  vader_neg  vader_neu  vader_score  \n",
       "0            100-250      0.261      0.000      0.739       0.7401  \n",
       "1            100-250      0.291      0.218      0.491       0.4434  \n",
       "2            100-250      0.527      0.000      0.473       0.8795  \n",
       "3           250-1000      0.079      0.255      0.666      -0.8608  \n",
       "4              0-100      0.409      0.073      0.518       0.7579  "
      ]
     },
     "execution_count": 137,
     "metadata": {},
     "output_type": "execute_result"
    }
   ],
   "source": [
    "df.head()"
   ]
  },
  {
   "cell_type": "code",
   "execution_count": 138,
   "id": "96e18b26",
   "metadata": {
    "colab": {
     "base_uri": "https://localhost:8080/",
     "height": 172
    },
    "id": "96e18b26",
    "outputId": "19edab02-d354-4705-e6fe-9a16d531a103"
   },
   "outputs": [
    {
     "data": {
      "image/png": "[encoded data removed]",
      "text/plain": [
       "<Figure size 2000x500 with 4 Axes>"
      ]
     },
     "metadata": {},
     "output_type": "display_data"
    }
   ],
   "source": [
    "#Analiza wyników działania vadera na podstawie sentymentu wypowiedzi\n",
    "fig, axs = plt.subplots(1, 4, figsize = (20, 5))\n",
    "sns.barplot(data = df, x = 'Sentiment', y = 'vader_pos',ax = axs[0])\n",
    "sns.barplot(data = df, x = 'Sentiment', y = 'vader_neg',ax = axs[1])\n",
    "sns.barplot(data = df, x = 'Sentiment', y = 'vader_neu', ax = axs[2])\n",
    "sns.barplot(data = df, x = 'Sentiment', y = 'vader_score', ax = axs[3])\n",
    "axs[0].set_title('pos')\n",
    "axs[1].set_title('neg')\n",
    "axs[2].set_title('neu')\n",
    "axs[3].set_title('score')\n",
    "plt.tight_layout()\n",
    "plt.show()"
   ]
  },
  {
   "cell_type": "markdown",
   "id": "s8Dl3mNXVjPy",
   "metadata": {
    "id": "s8Dl3mNXVjPy"
   },
   "source": [
    "**WALIDACJA**\n",
    "\n",
    "\n",
    "---\n",
    "\n",
    "Widać, że wyniki funckji vader oraz wartości w kolumnie Sentiment pokrywają się - to dobrze :). Jedyne co to w varder_score jest duża dysproporcja pomiędzy positive a neutral, a między neutral a negative już nie tak bardzo, warto się zastanowić dlaczego tak jest?"
   ]
  },
  {
   "cell_type": "markdown",
   "id": "1cd0016c-389b-4907-b9f8-fbc19476f562",
   "metadata": {},
   "source": [
    "**BUDOWA**\n",
    "\n",
    "\n",
    "---\n",
    "\n",
    "Dysproporcja w vader_score wynika z tego, że komentarzy pozytywnych jest znacznie więcej w porównaniu do innych."
   ]
  },
  {
   "cell_type": "code",
   "execution_count": 141,
   "id": "d2b60d08",
   "metadata": {
    "id": "d2b60d08"
   },
   "outputs": [],
   "source": [
    "scaler = MinMaxScaler()\n",
    "df[['vader_score_norm']] = scaler.fit_transform(df[['vader_score']])"
   ]
  },
  {
   "cell_type": "markdown",
   "id": "NlEF9QBuWaLH",
   "metadata": {
    "id": "NlEF9QBuWaLH"
   },
   "source": [
    "**WALIDACJA**\n",
    "\n",
    "\n",
    "---\n",
    "\n",
    "Przydałyby się jakieś komentarze wyjaśniające co robicie :("
   ]
  },
  {
   "cell_type": "code",
   "execution_count": 143,
   "id": "c159903d",
   "metadata": {
    "colab": {
     "base_uri": "https://localhost:8080/",
     "height": 449
    },
    "id": "c159903d",
    "outputId": "af419c77-3232-4e60-92fe-ea8b4861a548"
   },
   "outputs": [
    {
     "data": {
      "image/png": "[encoded data removed]",
      "text/plain": [
       "<Figure size 640x480 with 1 Axes>"
      ]
     },
     "metadata": {},
     "output_type": "display_data"
    }
   ],
   "source": [
    "sns.boxplot(data = df, x = 'Sentiment', y = 'vader_score_norm')\n",
    "plt.show()"
   ]
  },
  {
   "cell_type": "markdown",
   "id": "recyolyLTMHa",
   "metadata": {
    "id": "recyolyLTMHa"
   },
   "source": [
    "**WALIDACJA**\n",
    "\n",
    "\n",
    "---\n",
    "\n",
    "Ta sama sytuacja co powyżej - dużo wartości odstających, co z nimi zrobić?"
   ]
  },
  {
   "cell_type": "code",
   "execution_count": 145,
   "id": "ed0da437-90e1-4639-9f34-be901f6c8327",
   "metadata": {},
   "outputs": [
    {
     "data": {
      "text/html": [
       "<div>\n",
       "<style scoped>\n",
       "    .dataframe tbody tr th:only-of-type {\n",
       "        vertical-align: middle;\n",
       "    }\n",
       "\n",
       "    .dataframe tbody tr th {\n",
       "        vertical-align: top;\n",
       "    }\n",
       "\n",
       "    .dataframe thead th {\n",
       "        text-align: right;\n",
       "    }\n",
       "</style>\n",
       "<table border=\"1\" class=\"dataframe\">\n",
       "  <thead>\n",
       "    <tr style=\"text-align: right;\">\n",
       "      <th></th>\n",
       "      <th>Comment</th>\n",
       "      <th>Sentiment</th>\n",
       "      <th>Tokenized_Comment</th>\n",
       "      <th>length</th>\n",
       "      <th>comment_length_bin</th>\n",
       "      <th>vader_pos</th>\n",
       "      <th>vader_neg</th>\n",
       "      <th>vader_neu</th>\n",
       "      <th>vader_score</th>\n",
       "      <th>vader_score_norm</th>\n",
       "    </tr>\n",
       "  </thead>\n",
       "  <tbody>\n",
       "    <tr>\n",
       "      <th>0</th>\n",
       "      <td>let a not forget apple pay 2014 required brand...</td>\n",
       "      <td>neutral</td>\n",
       "      <td>[let, a, not, forget, apple, pay, 2014, requir...</td>\n",
       "      <td>237</td>\n",
       "      <td>100-250</td>\n",
       "      <td>0.261</td>\n",
       "      <td>0.000</td>\n",
       "      <td>0.739</td>\n",
       "      <td>0.7401</td>\n",
       "      <td>0.870027</td>\n",
       "    </tr>\n",
       "    <tr>\n",
       "      <th>1</th>\n",
       "      <td>no of retailer not even contactless credit car...</td>\n",
       "      <td>negative</td>\n",
       "      <td>[no, of, retailer, not, even, contactless, cre...</td>\n",
       "      <td>109</td>\n",
       "      <td>100-250</td>\n",
       "      <td>0.291</td>\n",
       "      <td>0.218</td>\n",
       "      <td>0.491</td>\n",
       "      <td>0.4434</td>\n",
       "      <td>0.721365</td>\n",
       "    </tr>\n",
       "    <tr>\n",
       "      <th>2</th>\n",
       "      <td>forever acknowledge channel help lesson idea e...</td>\n",
       "      <td>positive</td>\n",
       "      <td>[forever, acknowledge, channel, help, lesson, ...</td>\n",
       "      <td>105</td>\n",
       "      <td>100-250</td>\n",
       "      <td>0.527</td>\n",
       "      <td>0.000</td>\n",
       "      <td>0.473</td>\n",
       "      <td>0.8795</td>\n",
       "      <td>0.939874</td>\n",
       "    </tr>\n",
       "    <tr>\n",
       "      <th>3</th>\n",
       "      <td>whenever go place not take apple pay not happe...</td>\n",
       "      <td>negative</td>\n",
       "      <td>[whenever, go, place, not, take, apple, pay, n...</td>\n",
       "      <td>295</td>\n",
       "      <td>250-1000</td>\n",
       "      <td>0.079</td>\n",
       "      <td>0.255</td>\n",
       "      <td>0.666</td>\n",
       "      <td>-0.8608</td>\n",
       "      <td>0.067893</td>\n",
       "    </tr>\n",
       "    <tr>\n",
       "      <th>4</th>\n",
       "      <td>apple pay convenient secure easy use used kore...</td>\n",
       "      <td>positive</td>\n",
       "      <td>[apple, pay, convenient, secure, easy, use, us...</td>\n",
       "      <td>91</td>\n",
       "      <td>0-100</td>\n",
       "      <td>0.409</td>\n",
       "      <td>0.073</td>\n",
       "      <td>0.518</td>\n",
       "      <td>0.7579</td>\n",
       "      <td>0.878946</td>\n",
       "    </tr>\n",
       "  </tbody>\n",
       "</table>\n",
       "</div>"
      ],
      "text/plain": [
       "                                             Comment Sentiment  \\\n",
       "0  let a not forget apple pay 2014 required brand...   neutral   \n",
       "1  no of retailer not even contactless credit car...  negative   \n",
       "2  forever acknowledge channel help lesson idea e...  positive   \n",
       "3  whenever go place not take apple pay not happe...  negative   \n",
       "4  apple pay convenient secure easy use used kore...  positive   \n",
       "\n",
       "                                   Tokenized_Comment  length  \\\n",
       "0  [let, a, not, forget, apple, pay, 2014, requir...     237   \n",
       "1  [no, of, retailer, not, even, contactless, cre...     109   \n",
       "2  [forever, acknowledge, channel, help, lesson, ...     105   \n",
       "3  [whenever, go, place, not, take, apple, pay, n...     295   \n",
       "4  [apple, pay, convenient, secure, easy, use, us...      91   \n",
       "\n",
       "  comment_length_bin  vader_pos  vader_neg  vader_neu  vader_score  \\\n",
       "0            100-250      0.261      0.000      0.739       0.7401   \n",
       "1            100-250      0.291      0.218      0.491       0.4434   \n",
       "2            100-250      0.527      0.000      0.473       0.8795   \n",
       "3           250-1000      0.079      0.255      0.666      -0.8608   \n",
       "4              0-100      0.409      0.073      0.518       0.7579   \n",
       "\n",
       "   vader_score_norm  \n",
       "0          0.870027  \n",
       "1          0.721365  \n",
       "2          0.939874  \n",
       "3          0.067893  \n",
       "4          0.878946  "
      ]
     },
     "execution_count": 145,
     "metadata": {},
     "output_type": "execute_result"
    }
   ],
   "source": [
    "df.head()"
   ]
  },
  {
   "cell_type": "markdown",
   "id": "EeSwb7chWjwc",
   "metadata": {
    "id": "EeSwb7chWjwc"
   },
   "source": [
    "**WALIDACJA**\n",
    "\n",
    "\n",
    "---\n",
    "\n",
    "\n",
    "SUPER PRACA ‼️‼️‼️🥳🥳🥳😎😎😎"
   ]
  }
 ],
 "metadata": {
  "colab": {
   "provenance": []
  },
  "kernelspec": {
   "display_name": "Python [conda env:base] *",
   "language": "python",
   "name": "conda-base-py"
  },
  "language_info": {
   "codemirror_mode": {
    "name": "ipython",
    "version": 3
   },
   "file_extension": ".py",
   "mimetype": "text/x-python",
   "name": "python",
   "nbconvert_exporter": "python",
   "pygments_lexer": "ipython3",
   "version": "3.12.7"
  }
 },
 "nbformat": 4,
 "nbformat_minor": 5
}
