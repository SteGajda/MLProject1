{
 "cells": [
  {
   "cell_type": "markdown",
   "id": "bfc05ddd-d65b-4eb6-8fc5-4d442ff6f84a",
   "metadata": {},
   "source": [
    "# Feature Engineering"
   ]
  },
  {
   "cell_type": "code",
   "execution_count": 21,
   "id": "54278779-4703-41dc-bc81-7637f5a6d540",
   "metadata": {},
   "outputs": [],
   "source": [
    "#Ładowanie bibliotek\n",
    "import pandas as pd\n",
    "from sklearn.model_selection import train_test_split\n",
    "from sklearn.base import BaseEstimator, TransformerMixin\n",
    "from sklearn.pipeline import Pipeline\n",
    "from sklearn.feature_extraction.text import TfidfVectorizer\n",
    "\n",
    "import string\n",
    "\n",
    "import nltk\n",
    "from nltk.corpus import stopwords\n",
    "from nltk.tokenize import word_tokenize\n",
    "from nltk.stem import WordNetLemmatizer\n",
    "\n",
    "\n",
    "import contractions\n",
    "from symspellpy import SymSpell, Verbosity\n",
    "from nrclex import NRCLex\n",
    "\n",
    "from sklearn.feature_extraction.text import CountVectorizer\n",
    "import gensim.downloader as api\n",
    "import numpy as np\n",
    "from tqdm.notebook import tqdm\n",
    "import time\n",
    "import gensim.downloader as api\n",
    "from gensim.models import Word2Vec\n",
    "from sklearn.preprocessing import LabelEncoder\n",
    "\n"
   ]
  },
  {
   "cell_type": "code",
   "execution_count": 2,
   "id": "5e149a9c-dff1-4ded-9476-219f86afe60d",
   "metadata": {},
   "outputs": [],
   "source": [
    "#Podział danych na treningowe, testowe i walidacyjne\n",
    "\n",
    "#df=pd.read_csv(\"YoutubeCommentsDataSet.csv\")\n",
    "#X = df.drop(columns=[\"Sentiment\"])\n",
    "#y = df['Sentiment']\n",
    "\n",
    "#X_train, X_val, y_train, y_val = train_test_split(X, y, test_size=0.3, random_state=42, stratify=y)\n",
    "\n",
    "#X_train, X_test, y_train, y_test = train_test_split(X_train, y_train, test_size=0.3, random_state=42, stratify=y_train)\n",
    "#y_test = pd.DataFrame(y_test, columns=[\"Sentiment\"])\n",
    "\n",
    "\n",
    "#ValidationData = pd.concat([X_val, y_val], axis=1)\n",
    "#ValidationData.to_csv(\"ValidationData.csv\", index=False)\n",
    "#TestData = pd.concat([X_test, y_test], axis=1)\n",
    "#TestData.to_csv(\"TestData.csv\",index=False)\n",
    "#TrainData = pd.concat([X_train, y_train], axis=1)\n",
    "#TrainData.to_csv(\"TrainData.csv\",index=False)\n",
    "\n",
    "\n",
    "#print(f'Train shape: {X_train.shape}, Test shape: {X_test.shape}, Validation shape: {X_val.shape}')"
   ]
  },
  {
   "cell_type": "code",
   "execution_count": 5,
   "id": "7266a4b2-f58c-46e3-916d-480fd50b6167",
   "metadata": {},
   "outputs": [],
   "source": [
    "class CleanCommentTransform(BaseEstimator, TransformerMixin):\n",
    "    def __init__(self):\n",
    "        self.lemmatizer = WordNetLemmatizer()\n",
    "        self.stop_words = set(stopwords.words('english'))\n",
    "        \n",
    "    def fit(self, X, y=None):\n",
    "        return self\n",
    "    \n",
    "    def transform(self, X):\n",
    "        df = X.copy()\n",
    "        df['Comment'] = df['Comment'].fillna('')\n",
    "        \n",
    "        def preprocess_text(text):\n",
    "            # Usuwanie interpunkcji\n",
    "            text = text.lower()\n",
    "            text = ''.join([char for char in text if char not in string.punctuation])\n",
    "            \n",
    "            # Tokenizacja\n",
    "            tokens = word_tokenize(text)\n",
    "            \n",
    "            # Lematyzacja i usuwanie stopwords\n",
    "            tokens = [self.lemmatizer.lemmatize(word) for word in tokens if word not in self.stop_words]\n",
    "            \n",
    "            return \" \".join(tokens)\n",
    "        \n",
    "        # Zastosowanie transformacji na kolumnie 'Comment'\n",
    "        df['Clean_Comment'] = df['Comment'].apply(preprocess_text)\n",
    "        \n",
    "        # Zwróć całą kolumnę 'Clean_Comment' jako lista tekstów\n",
    "        return df['Clean_Comment'].values  # Teraz zwracasz numpy array, ale zawierający same teksty\n"
   ]
  },
  {
   "cell_type": "code",
   "execution_count": 7,
   "id": "70831f2d",
   "metadata": {},
   "outputs": [],
   "source": [
    "class BoWwithNgramTransform(BaseEstimator, TransformerMixin):\n",
    "    def __init__(self, ngram_range=(1, 2)):\n",
    "        # Inicjalizacja CountVectorizer z ngramami (domyślnie 1-gram i 2-gram)\n",
    "        self.vectorizer = CountVectorizer(ngram_range=ngram_range)\n",
    "        \n",
    "    def fit(self, X, y=None):\n",
    "        # Dopasowanie wektoryzatora na danych\n",
    "        # X jest teraz tablicą NumPy, więc musimy użyć odpowiedniego indeksowania\n",
    "        self.vectorizer.fit(X.ravel())  # ravel() zamienia dane z numpy array na 1D\n",
    "        return self\n",
    "    \n",
    "    def transform(self, X):\n",
    "        # Przekształcenie tekstów na reprezentację BoW z ngramami\n",
    "        # X jest teraz tablicą NumPy, więc musimy znowu przekształcić dane\n",
    "        transformed = self.vectorizer.transform(X.ravel())  # ravel() zamienia dane z numpy array na 1D\n",
    "        \n",
    "        # Zwracamy dane w postaci macierzy NumPy\n",
    "        return transformed.toarray()"
   ]
  },
  {
   "cell_type": "code",
   "execution_count": 9,
   "id": "7849df76",
   "metadata": {},
   "outputs": [],
   "source": [
    "class TextEmbedderTransform(BaseEstimator, TransformerMixin):\n",
    "    def __init__(self, max_features=1000):\n",
    "        # Możemy dodać opcję max_features, aby ograniczyć liczbę cech\n",
    "        self.vectorizer = TfidfVectorizer(max_features=max_features)\n",
    "        \n",
    "    def fit(self, X, y=None):\n",
    "        # Dostosowanie vectorizera do danych\n",
    "        self.vectorizer.fit(X)\n",
    "        return self\n",
    "    \n",
    "    def transform(self, X):\n",
    "        # Transformacja danych na wektory\n",
    "        return self.vectorizer.transform(X).toarray()"
   ]
  },
  {
   "cell_type": "code",
   "execution_count": 17,
   "id": "0bec77d8",
   "metadata": {},
   "outputs": [],
   "source": [
    "class CombinedFeatures(BaseEstimator, TransformerMixin):\n",
    "    def __init__(self):\n",
    "        self.bow = BoWwithNgramTransform()\n",
    "        self.embed = TextEmbedderTransform()\n",
    "\n",
    "    def fit(self, X, y=None):\n",
    "        self.bow.fit(X)\n",
    "        self.embed.fit(X)\n",
    "        return self\n",
    "\n",
    "    def transform(self, X):\n",
    "        bow_features = self.bow.transform(X)\n",
    "        embed_features = self.embed.transform(X)\n",
    "        # Zakładamy, że oba zwracają macierze typu numpy / sparse\n",
    "        from scipy.sparse import hstack, issparse\n",
    "        if issparse(bow_features) or issparse(embed_features):\n",
    "            return hstack([bow_features, embed_features])\n",
    "        else:\n",
    "            import numpy as np\n",
    "            return np.hstack([bow_features, embed_features])\n",
    "\n",
    "# Finalny pipeline\n",
    "full_pipeline = Pipeline([\n",
    "    ('clean_text', CleanCommentTransform()),\n",
    "    ('features', CombinedFeatures())\n",
    "])"
   ]
  },
  {
   "cell_type": "code",
   "execution_count": 19,
   "id": "046a7ab9-27de-4d81-a3fc-ca44f79ddcad",
   "metadata": {},
   "outputs": [
    {
     "name": "stdout",
     "output_type": "stream",
     "text": [
      "Kształt cech: (4, 31)\n",
      "Przykład pierwszego wektora cech: [0. 0. 0. 1. 0. 0. 0. 1. 1. 0.]\n"
     ]
    }
   ],
   "source": [
    "# Przykładowy DataFrame z kolumną 'Comment'\n",
    "df = pd.DataFrame({\n",
    "    'Comment': [\n",
    "        \"This is the FIRST comment!!!\",\n",
    "        \"Another one with some <html> tags & weird punctuation :)\",\n",
    "        None,  # testujemy też brak wartości\n",
    "        \"Final comment – with stuff to clean.\"\n",
    "    ]\n",
    "})\n",
    "\n",
    "# Transformacja danych\n",
    "X_transformed = full_pipeline.fit_transform(df)\n",
    "\n",
    "# Sprawdzenie wyniku\n",
    "print(\"Kształt cech:\", X_transformed.shape)\n",
    "print(\"Przykład pierwszego wektora cech:\", X_transformed[0][:10])  # skrócone"
   ]
  }
 ],
 "metadata": {
  "kernelspec": {
   "display_name": "Python [conda env:base] *",
   "language": "python",
   "name": "conda-base-py"
  },
  "language_info": {
   "codemirror_mode": {
    "name": "ipython",
    "version": 3
   },
   "file_extension": ".py",
   "mimetype": "text/x-python",
   "name": "python",
   "nbconvert_exporter": "python",
   "pygments_lexer": "ipython3",
   "version": "3.12.7"
  }
 },
 "nbformat": 4,
 "nbformat_minor": 5
}
