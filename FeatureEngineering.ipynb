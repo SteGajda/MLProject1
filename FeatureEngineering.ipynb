{
 "cells": [
  {
   "cell_type": "markdown",
   "id": "bfc05ddd-d65b-4eb6-8fc5-4d442ff6f84a",
   "metadata": {},
   "source": [
    "# Feature Engineering"
   ]
  },
  {
   "cell_type": "code",
   "execution_count": 37,
   "id": "54278779-4703-41dc-bc81-7637f5a6d540",
   "metadata": {},
   "outputs": [],
   "source": [
    "#Ładowanie bibliotek\n",
    "import pandas as pd\n",
    "from sklearn.model_selection import train_test_split\n",
    "from sklearn.base import BaseEstimator, TransformerMixin\n",
    "from sklearn.pipeline import Pipeline\n",
    "\n",
    "import string\n",
    "\n",
    "import nltk\n",
    "from nltk.corpus import stopwords\n",
    "from nltk.tokenize import word_tokenize\n",
    "from nltk.stem import WordNetLemmatizer\n",
    "\n",
    "\n",
    "import contractions\n",
    "from symspellpy import SymSpell, Verbosity\n",
    "from nrclex import NRCLex\n"
   ]
  },
  {
   "cell_type": "code",
   "execution_count": 19,
   "id": "5e149a9c-dff1-4ded-9476-219f86afe60d",
   "metadata": {},
   "outputs": [
    {
     "name": "stdout",
     "output_type": "stream",
     "text": [
      "Train shape: (9019, 1), Test shape: (3866, 1), Validation shape: (5523, 1)\n"
     ]
    }
   ],
   "source": [
    "#Podział danych na treningowe, testowe i walidacyjne\n",
    "\n",
    "#df=pd.read_csv(\"YoutubeCommentsDataSet.csv\")\n",
    "#X = df.drop(columns=[\"Sentiment\"])\n",
    "#y = df['Sentiment']\n",
    "\n",
    "#X_train, X_val, y_train, y_val = train_test_split(X, y, test_size=0.3, random_state=42, stratify=y)\n",
    "\n",
    "#X_train, X_test, y_train, y_test = train_test_split(X_train, y_train, test_size=0.3, random_state=42, stratify=y_train)\n",
    "#y_test = pd.DataFrame(y_test, columns=[\"Sentiment\"])\n",
    "\n",
    "\n",
    "#ValidationData = pd.concat([X_val, y_val], axis=1)\n",
    "#ValidationData.to_csv(\"ValidationData.csv\", index=False)\n",
    "#TestData = pd.concat([X_test, y_test], axis=1)\n",
    "#TestData.to_csv(\"TestData.csv\",index=False)\n",
    "#TrainData = pd.concat([X_train, y_train], axis=1)\n",
    "#TrainData.to_csv(\"TrainData.csv\",index=False)\n",
    "\n",
    "\n",
    "#print(f'Train shape: {X_train.shape}, Test shape: {X_test.shape}, Validation shape: {X_val.shape}')"
   ]
  },
  {
   "cell_type": "code",
   "execution_count": 53,
   "id": "7266a4b2-f58c-46e3-916d-480fd50b6167",
   "metadata": {},
   "outputs": [],
   "source": [
    "#Zaczynam tworzyć klasy do pipelina\n",
    "\n",
    "class CleanCommentTransform(BaseEstimator, TransformerMixin):\n",
    "    def __init__(self):\n",
    "        # Inicjalizacja lematyzatora i stopwords\n",
    "        self.lemmatizer = WordNetLemmatizer()\n",
    "        self.stop_words = set(stopwords.words('english'))\n",
    "        \n",
    "    def fit(self, X, y=None):\n",
    "        # Fit nie wykonuje żadnych operacji w tym przypadku\n",
    "        return self\n",
    "    \n",
    "    def transform(self, X):\n",
    "        # Tworzenie kopii danych, aby nie zmieniać oryginalnych\n",
    "        df = X.copy()\n",
    "        df['Comment'] = df['Comment'].fillna('')\n",
    "        \n",
    "        def preprocess_text(text):\n",
    "            # Usuwanie interpunkcji\n",
    "            text = text.lower()\n",
    "            text = ''.join([char for char in text if char not in string.punctuation])\n",
    "            \n",
    "            # Tokenizacja\n",
    "            tokens = word_tokenize(text)\n",
    "            \n",
    "            # Lematyzacja i usuwanie stopwords\n",
    "            tokens = [self.lemmatizer.lemmatize(word) for word in tokens if word not in self.stop_words]\n",
    "            \n",
    "            return \" \".join(tokens)\n",
    "        \n",
    "        # Zastosowanie transformacji na kolumnie 'Comment'\n",
    "        df['Clean_Comment'] = df['Comment'].apply(preprocess_text)\n",
    "        \n",
    "        return df[['Clean_Comment']].to_numpy()\n"
   ]
  },
  {
   "cell_type": "code",
   "execution_count": 61,
   "id": "38637979-0430-4b95-a20a-a13c55a02bf2",
   "metadata": {},
   "outputs": [
    {
     "name": "stdout",
     "output_type": "stream",
     "text": [
      "[['test comment']\n",
      " ['another test word']\n",
      " ['testing lemmatizer stopwords removal']\n",
      " ['']]\n"
     ]
    }
   ],
   "source": [
    "\n",
    "pipeline = Pipeline([\n",
    "    ('clean_comment', CleanCommentTransform())\n",
    "])\n",
    "\n",
    "# Przykładowe dane wejściowe\n",
    "data = pd.DataFrame({\n",
    "    'Comment': [\n",
    "        'This is a test comment!',\n",
    "        'Another test, with more words.',\n",
    "        'Testing the lemmatizer and stopwords removal.',\n",
    "        None\n",
    "    ],\n",
    "    'Sentiment': [1, 0, 1,0]\n",
    "})\n",
    "\n",
    "# Przetwarzanie danych przez pipeline\n",
    "processed_data = pipeline.fit_transform(data)\n",
    "\n",
    "# Wyświetlanie przetworzonych danych\n",
    "print(processed_data)"
   ]
  }
 ],
 "metadata": {
  "kernelspec": {
   "display_name": "Python [conda env:base] *",
   "language": "python",
   "name": "conda-base-py"
  },
  "language_info": {
   "codemirror_mode": {
    "name": "ipython",
    "version": 3
   },
   "file_extension": ".py",
   "mimetype": "text/x-python",
   "name": "python",
   "nbconvert_exporter": "python",
   "pygments_lexer": "ipython3",
   "version": "3.12.7"
  }
 },
 "nbformat": 4,
 "nbformat_minor": 5
}
