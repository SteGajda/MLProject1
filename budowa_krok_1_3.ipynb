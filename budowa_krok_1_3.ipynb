{
 "cells": [
  {
   "cell_type": "markdown",
   "id": "be91926c-139c-4959-a085-eca71edab4b9",
   "metadata": {},
   "source": []
  },
  {
   "cell_type": "code",
   "execution_count": 128,
   "id": "99b09398",
   "metadata": {},
   "outputs": [],
   "source": [
    "# nltk.download('sentiwordnet')\n",
    "# nltk.download('wordnet')\n",
    "# nltk.download('averaged_perceptron_tagger')\n",
    "# nltk.download('punkt')\n",
    "# nltk.download('vader_lexicon')\n",
    "# nltk.download('stopwords')\n",
    "# !pip install NRCLex\n",
    "# !pip install contractions\n",
    "# from textblob import download_corpora\n",
    "# download_corpora.download_all()"
   ]
  },
  {
   "cell_type": "code",
   "execution_count": 129,
   "id": "5e5967ac-9bf0-4d67-af27-d5422b3595e0",
   "metadata": {},
   "outputs": [],
   "source": [
    "#Loading libraries\n",
    "import pandas as pd\n",
    "import seaborn as sns\n",
    "import matplotlib.pyplot as plt\n",
    "import nltk\n",
    "import string\n",
    "from nltk.sentiment import SentimentIntensityAnalyzer\n",
    "from nltk.corpus import sentiwordnet as swn\n",
    "from nltk.tokenize import word_tokenize\n",
    "from nltk.corpus import wordnet\n",
    "from nltk import pos_tag\n",
    "from sklearn.preprocessing import StandardScaler\n",
    "from nltk.corpus import stopwords\n",
    "from nltk.tokenize import word_tokenize\n",
    "from sklearn.preprocessing import MinMaxScaler\n",
    "from sklearn.model_selection import train_test_split\n",
    "from nrclex import NRCLex\n",
    "\n",
    "\n",
    "import re\n",
    "from textblob import TextBlob\n",
    "from nltk.stem import WordNetLemmatizer\n",
    "from string import punctuation\n",
    "import contractions"
   ]
  },
  {
   "cell_type": "code",
   "execution_count": 130,
   "id": "34f8fd1d-751f-45e7-9875-ef169346d0ec",
   "metadata": {},
   "outputs": [],
   "source": [
    "df=pd.read_csv(\"YoutubeCommentsDataSet.csv\")"
   ]
  },
  {
   "cell_type": "code",
   "execution_count": 131,
   "id": "b169530a-b774-4e8a-8ed8-93d03dc4d601",
   "metadata": {},
   "outputs": [
    {
     "data": {
      "text/html": [
       "<div>\n",
       "<style scoped>\n",
       "    .dataframe tbody tr th:only-of-type {\n",
       "        vertical-align: middle;\n",
       "    }\n",
       "\n",
       "    .dataframe tbody tr th {\n",
       "        vertical-align: top;\n",
       "    }\n",
       "\n",
       "    .dataframe thead th {\n",
       "        text-align: right;\n",
       "    }\n",
       "</style>\n",
       "<table border=\"1\" class=\"dataframe\">\n",
       "  <thead>\n",
       "    <tr style=\"text-align: right;\">\n",
       "      <th></th>\n",
       "      <th>Comment</th>\n",
       "      <th>Sentiment</th>\n",
       "    </tr>\n",
       "  </thead>\n",
       "  <tbody>\n",
       "    <tr>\n",
       "      <th>0</th>\n",
       "      <td>lets not forget that apple pay in 2014 require...</td>\n",
       "      <td>neutral</td>\n",
       "    </tr>\n",
       "    <tr>\n",
       "      <th>1</th>\n",
       "      <td>here in nz 50 of retailers don’t even have con...</td>\n",
       "      <td>negative</td>\n",
       "    </tr>\n",
       "    <tr>\n",
       "      <th>2</th>\n",
       "      <td>i will forever acknowledge this channel with t...</td>\n",
       "      <td>positive</td>\n",
       "    </tr>\n",
       "    <tr>\n",
       "      <th>3</th>\n",
       "      <td>whenever i go to a place that doesn’t take app...</td>\n",
       "      <td>negative</td>\n",
       "    </tr>\n",
       "    <tr>\n",
       "      <th>4</th>\n",
       "      <td>apple pay is so convenient secure and easy to ...</td>\n",
       "      <td>positive</td>\n",
       "    </tr>\n",
       "  </tbody>\n",
       "</table>\n",
       "</div>"
      ],
      "text/plain": [
       "                                             Comment Sentiment\n",
       "0  lets not forget that apple pay in 2014 require...   neutral\n",
       "1  here in nz 50 of retailers don’t even have con...  negative\n",
       "2  i will forever acknowledge this channel with t...  positive\n",
       "3  whenever i go to a place that doesn’t take app...  negative\n",
       "4  apple pay is so convenient secure and easy to ...  positive"
      ]
     },
     "execution_count": 131,
     "metadata": {},
     "output_type": "execute_result"
    }
   ],
   "source": [
    "#Analiza wizualna danych\n",
    "df.head()"
   ]
  },
  {
   "cell_type": "code",
   "execution_count": 132,
   "id": "8aa5d925-7154-4759-86ae-d77e2f900404",
   "metadata": {},
   "outputs": [
    {
     "data": {
      "text/plain": [
       "['Comment', 'Sentiment']"
      ]
     },
     "execution_count": 132,
     "metadata": {},
     "output_type": "execute_result"
    }
   ],
   "source": [
    "df.columns.values.tolist()"
   ]
  },
  {
   "cell_type": "code",
   "execution_count": 133,
   "id": "b2ecad98-4d92-4aa8-8b50-a78608360939",
   "metadata": {},
   "outputs": [
    {
     "name": "stdout",
     "output_type": "stream",
     "text": [
      "<class 'pandas.core.frame.DataFrame'>\n",
      "RangeIndex: 18408 entries, 0 to 18407\n",
      "Data columns (total 2 columns):\n",
      " #   Column     Non-Null Count  Dtype \n",
      "---  ------     --------------  ----- \n",
      " 0   Comment    18364 non-null  object\n",
      " 1   Sentiment  18408 non-null  object\n",
      "dtypes: object(2)\n",
      "memory usage: 287.8+ KB\n"
     ]
    }
   ],
   "source": [
    "df.info()"
   ]
  },
  {
   "cell_type": "code",
   "execution_count": null,
   "id": "fd8c6573-8dce-408c-b2cd-e2583354ab8f",
   "metadata": {},
   "outputs": [],
   "source": [
    "#We see that we have null comments having sentiment. Let's check what are their sentiments"
   ]
  },
  {
   "cell_type": "code",
   "execution_count": 135,
   "id": "ce8cd38e-d904-4c25-8aa7-f628bd8b9ea4",
   "metadata": {},
   "outputs": [
    {
     "data": {
      "text/html": [
       "<div>\n",
       "<style scoped>\n",
       "    .dataframe tbody tr th:only-of-type {\n",
       "        vertical-align: middle;\n",
       "    }\n",
       "\n",
       "    .dataframe tbody tr th {\n",
       "        vertical-align: top;\n",
       "    }\n",
       "\n",
       "    .dataframe thead th {\n",
       "        text-align: right;\n",
       "    }\n",
       "</style>\n",
       "<table border=\"1\" class=\"dataframe\">\n",
       "  <thead>\n",
       "    <tr style=\"text-align: right;\">\n",
       "      <th></th>\n",
       "      <th>Comment</th>\n",
       "      <th>Sentiment</th>\n",
       "    </tr>\n",
       "  </thead>\n",
       "  <tbody>\n",
       "    <tr>\n",
       "      <th>602</th>\n",
       "      <td>NaN</td>\n",
       "      <td>negative</td>\n",
       "    </tr>\n",
       "    <tr>\n",
       "      <th>716</th>\n",
       "      <td>NaN</td>\n",
       "      <td>neutral</td>\n",
       "    </tr>\n",
       "    <tr>\n",
       "      <th>812</th>\n",
       "      <td>NaN</td>\n",
       "      <td>positive</td>\n",
       "    </tr>\n",
       "    <tr>\n",
       "      <th>1021</th>\n",
       "      <td>NaN</td>\n",
       "      <td>positive</td>\n",
       "    </tr>\n",
       "    <tr>\n",
       "      <th>1023</th>\n",
       "      <td>NaN</td>\n",
       "      <td>neutral</td>\n",
       "    </tr>\n",
       "    <tr>\n",
       "      <th>1041</th>\n",
       "      <td>NaN</td>\n",
       "      <td>positive</td>\n",
       "    </tr>\n",
       "    <tr>\n",
       "      <th>1094</th>\n",
       "      <td>NaN</td>\n",
       "      <td>positive</td>\n",
       "    </tr>\n",
       "    <tr>\n",
       "      <th>2443</th>\n",
       "      <td>NaN</td>\n",
       "      <td>positive</td>\n",
       "    </tr>\n",
       "    <tr>\n",
       "      <th>3014</th>\n",
       "      <td>NaN</td>\n",
       "      <td>positive</td>\n",
       "    </tr>\n",
       "    <tr>\n",
       "      <th>3235</th>\n",
       "      <td>NaN</td>\n",
       "      <td>positive</td>\n",
       "    </tr>\n",
       "    <tr>\n",
       "      <th>4280</th>\n",
       "      <td>NaN</td>\n",
       "      <td>positive</td>\n",
       "    </tr>\n",
       "    <tr>\n",
       "      <th>4345</th>\n",
       "      <td>NaN</td>\n",
       "      <td>neutral</td>\n",
       "    </tr>\n",
       "    <tr>\n",
       "      <th>4346</th>\n",
       "      <td>NaN</td>\n",
       "      <td>positive</td>\n",
       "    </tr>\n",
       "    <tr>\n",
       "      <th>4347</th>\n",
       "      <td>NaN</td>\n",
       "      <td>neutral</td>\n",
       "    </tr>\n",
       "    <tr>\n",
       "      <th>4348</th>\n",
       "      <td>NaN</td>\n",
       "      <td>neutral</td>\n",
       "    </tr>\n",
       "    <tr>\n",
       "      <th>4350</th>\n",
       "      <td>NaN</td>\n",
       "      <td>neutral</td>\n",
       "    </tr>\n",
       "    <tr>\n",
       "      <th>5693</th>\n",
       "      <td>NaN</td>\n",
       "      <td>neutral</td>\n",
       "    </tr>\n",
       "    <tr>\n",
       "      <th>5697</th>\n",
       "      <td>NaN</td>\n",
       "      <td>positive</td>\n",
       "    </tr>\n",
       "    <tr>\n",
       "      <th>5699</th>\n",
       "      <td>NaN</td>\n",
       "      <td>positive</td>\n",
       "    </tr>\n",
       "    <tr>\n",
       "      <th>5923</th>\n",
       "      <td>NaN</td>\n",
       "      <td>positive</td>\n",
       "    </tr>\n",
       "    <tr>\n",
       "      <th>7346</th>\n",
       "      <td>NaN</td>\n",
       "      <td>positive</td>\n",
       "    </tr>\n",
       "    <tr>\n",
       "      <th>7347</th>\n",
       "      <td>NaN</td>\n",
       "      <td>positive</td>\n",
       "    </tr>\n",
       "    <tr>\n",
       "      <th>7348</th>\n",
       "      <td>NaN</td>\n",
       "      <td>positive</td>\n",
       "    </tr>\n",
       "    <tr>\n",
       "      <th>8353</th>\n",
       "      <td>NaN</td>\n",
       "      <td>positive</td>\n",
       "    </tr>\n",
       "    <tr>\n",
       "      <th>8666</th>\n",
       "      <td>NaN</td>\n",
       "      <td>positive</td>\n",
       "    </tr>\n",
       "    <tr>\n",
       "      <th>8673</th>\n",
       "      <td>NaN</td>\n",
       "      <td>positive</td>\n",
       "    </tr>\n",
       "    <tr>\n",
       "      <th>8674</th>\n",
       "      <td>NaN</td>\n",
       "      <td>neutral</td>\n",
       "    </tr>\n",
       "    <tr>\n",
       "      <th>9050</th>\n",
       "      <td>NaN</td>\n",
       "      <td>positive</td>\n",
       "    </tr>\n",
       "    <tr>\n",
       "      <th>9051</th>\n",
       "      <td>NaN</td>\n",
       "      <td>positive</td>\n",
       "    </tr>\n",
       "    <tr>\n",
       "      <th>9711</th>\n",
       "      <td>NaN</td>\n",
       "      <td>positive</td>\n",
       "    </tr>\n",
       "    <tr>\n",
       "      <th>10484</th>\n",
       "      <td>NaN</td>\n",
       "      <td>positive</td>\n",
       "    </tr>\n",
       "    <tr>\n",
       "      <th>10491</th>\n",
       "      <td>NaN</td>\n",
       "      <td>positive</td>\n",
       "    </tr>\n",
       "    <tr>\n",
       "      <th>10492</th>\n",
       "      <td>NaN</td>\n",
       "      <td>neutral</td>\n",
       "    </tr>\n",
       "    <tr>\n",
       "      <th>10814</th>\n",
       "      <td>NaN</td>\n",
       "      <td>positive</td>\n",
       "    </tr>\n",
       "    <tr>\n",
       "      <th>11113</th>\n",
       "      <td>NaN</td>\n",
       "      <td>neutral</td>\n",
       "    </tr>\n",
       "    <tr>\n",
       "      <th>11222</th>\n",
       "      <td>NaN</td>\n",
       "      <td>positive</td>\n",
       "    </tr>\n",
       "    <tr>\n",
       "      <th>11225</th>\n",
       "      <td>NaN</td>\n",
       "      <td>positive</td>\n",
       "    </tr>\n",
       "    <tr>\n",
       "      <th>11226</th>\n",
       "      <td>NaN</td>\n",
       "      <td>neutral</td>\n",
       "    </tr>\n",
       "    <tr>\n",
       "      <th>11227</th>\n",
       "      <td>NaN</td>\n",
       "      <td>neutral</td>\n",
       "    </tr>\n",
       "    <tr>\n",
       "      <th>11501</th>\n",
       "      <td>NaN</td>\n",
       "      <td>positive</td>\n",
       "    </tr>\n",
       "    <tr>\n",
       "      <th>11503</th>\n",
       "      <td>NaN</td>\n",
       "      <td>neutral</td>\n",
       "    </tr>\n",
       "    <tr>\n",
       "      <th>11841</th>\n",
       "      <td>NaN</td>\n",
       "      <td>positive</td>\n",
       "    </tr>\n",
       "    <tr>\n",
       "      <th>16361</th>\n",
       "      <td>NaN</td>\n",
       "      <td>positive</td>\n",
       "    </tr>\n",
       "    <tr>\n",
       "      <th>16643</th>\n",
       "      <td>NaN</td>\n",
       "      <td>positive</td>\n",
       "    </tr>\n",
       "  </tbody>\n",
       "</table>\n",
       "</div>"
      ],
      "text/plain": [
       "      Comment Sentiment\n",
       "602       NaN  negative\n",
       "716       NaN   neutral\n",
       "812       NaN  positive\n",
       "1021      NaN  positive\n",
       "1023      NaN   neutral\n",
       "1041      NaN  positive\n",
       "1094      NaN  positive\n",
       "2443      NaN  positive\n",
       "3014      NaN  positive\n",
       "3235      NaN  positive\n",
       "4280      NaN  positive\n",
       "4345      NaN   neutral\n",
       "4346      NaN  positive\n",
       "4347      NaN   neutral\n",
       "4348      NaN   neutral\n",
       "4350      NaN   neutral\n",
       "5693      NaN   neutral\n",
       "5697      NaN  positive\n",
       "5699      NaN  positive\n",
       "5923      NaN  positive\n",
       "7346      NaN  positive\n",
       "7347      NaN  positive\n",
       "7348      NaN  positive\n",
       "8353      NaN  positive\n",
       "8666      NaN  positive\n",
       "8673      NaN  positive\n",
       "8674      NaN   neutral\n",
       "9050      NaN  positive\n",
       "9051      NaN  positive\n",
       "9711      NaN  positive\n",
       "10484     NaN  positive\n",
       "10491     NaN  positive\n",
       "10492     NaN   neutral\n",
       "10814     NaN  positive\n",
       "11113     NaN   neutral\n",
       "11222     NaN  positive\n",
       "11225     NaN  positive\n",
       "11226     NaN   neutral\n",
       "11227     NaN   neutral\n",
       "11501     NaN  positive\n",
       "11503     NaN   neutral\n",
       "11841     NaN  positive\n",
       "16361     NaN  positive\n",
       "16643     NaN  positive"
      ]
     },
     "execution_count": 135,
     "metadata": {},
     "output_type": "execute_result"
    }
   ],
   "source": [
    "null_comments = df[df[\"Comment\"].isnull()]\n",
    "null_comments"
   ]
  },
  {
   "cell_type": "code",
   "execution_count": null,
   "id": "c757d8ab-8929-4cde-b59e-58f478f2b88c",
   "metadata": {},
   "outputs": [],
   "source": [
    "#As we can see there is no pattern, therefore we'll delete this comments as there is nothing to analyze their sentiment from"
   ]
  },
  {
   "cell_type": "code",
   "execution_count": 137,
   "id": "61e673c5-de5d-40e0-aebe-427a1ac14fbe",
   "metadata": {},
   "outputs": [],
   "source": [
    "df = df.dropna(subset=[\"Comment\"])"
   ]
  },
  {
   "cell_type": "code",
   "execution_count": 138,
   "id": "d4df9fba-5171-4c77-8f0b-023614747ff6",
   "metadata": {},
   "outputs": [
    {
     "name": "stdout",
     "output_type": "stream",
     "text": [
      "<class 'pandas.core.frame.DataFrame'>\n",
      "Index: 18364 entries, 0 to 18407\n",
      "Data columns (total 2 columns):\n",
      " #   Column     Non-Null Count  Dtype \n",
      "---  ------     --------------  ----- \n",
      " 0   Comment    18364 non-null  object\n",
      " 1   Sentiment  18364 non-null  object\n",
      "dtypes: object(2)\n",
      "memory usage: 430.4+ KB\n"
     ]
    }
   ],
   "source": [
    "df.info()"
   ]
  },
  {
   "cell_type": "code",
   "execution_count": null,
   "id": "a083807d-8f91-4a93-b895-167d674ed5ea",
   "metadata": {},
   "outputs": [],
   "source": [
    "#Analiza ilościowa danych"
   ]
  },
  {
   "cell_type": "code",
   "execution_count": 187,
   "id": "85b3463a-f679-4547-acb1-57f05077f945",
   "metadata": {},
   "outputs": [
    {
     "data": {
      "image/png": "[encoded data removed]",
      "text/plain": [
       "<Figure size 800x500 with 1 Axes>"
      ]
     },
     "metadata": {},
     "output_type": "display_data"
    }
   ],
   "source": [
    "plt.figure(figsize=(8, 5))\n",
    "ax = sns.countplot(x=df[\"Sentiment\"])\n",
    "for p in ax.patches:\n",
    "    ax.annotate(f'{int(p.get_height())}', \n",
    "                (p.get_x() + p.get_width() / 2, p.get_height()), \n",
    "                ha='center', va='bottom', fontsize=12, fontweight='bold')\n",
    "plt.title(\"Sentiment Distribution\")\n",
    "plt.xlabel(\"Sentiment\")\n",
    "plt.ylabel(\"Count\")\n",
    "plt.show()"
   ]
  },
  {
   "cell_type": "code",
   "execution_count": 140,
   "id": "fc2b68ac-beb4-4afd-bd51-94b29dbe8b10",
   "metadata": {},
   "outputs": [
    {
     "data": {
      "text/html": [
       "<div>\n",
       "<style scoped>\n",
       "    .dataframe tbody tr th:only-of-type {\n",
       "        vertical-align: middle;\n",
       "    }\n",
       "\n",
       "    .dataframe tbody tr th {\n",
       "        vertical-align: top;\n",
       "    }\n",
       "\n",
       "    .dataframe thead th {\n",
       "        text-align: right;\n",
       "    }\n",
       "</style>\n",
       "<table border=\"1\" class=\"dataframe\">\n",
       "  <thead>\n",
       "    <tr style=\"text-align: right;\">\n",
       "      <th></th>\n",
       "      <th>Comment</th>\n",
       "      <th>Sentiment</th>\n",
       "      <th>length</th>\n",
       "    </tr>\n",
       "  </thead>\n",
       "  <tbody>\n",
       "    <tr>\n",
       "      <th>0</th>\n",
       "      <td>lets not forget that apple pay in 2014 require...</td>\n",
       "      <td>neutral</td>\n",
       "      <td>317</td>\n",
       "    </tr>\n",
       "    <tr>\n",
       "      <th>1</th>\n",
       "      <td>here in nz 50 of retailers don’t even have con...</td>\n",
       "      <td>negative</td>\n",
       "      <td>163</td>\n",
       "    </tr>\n",
       "    <tr>\n",
       "      <th>2</th>\n",
       "      <td>i will forever acknowledge this channel with t...</td>\n",
       "      <td>positive</td>\n",
       "      <td>183</td>\n",
       "    </tr>\n",
       "    <tr>\n",
       "      <th>3</th>\n",
       "      <td>whenever i go to a place that doesn’t take app...</td>\n",
       "      <td>negative</td>\n",
       "      <td>450</td>\n",
       "    </tr>\n",
       "    <tr>\n",
       "      <th>4</th>\n",
       "      <td>apple pay is so convenient secure and easy to ...</td>\n",
       "      <td>positive</td>\n",
       "      <td>135</td>\n",
       "    </tr>\n",
       "  </tbody>\n",
       "</table>\n",
       "</div>"
      ],
      "text/plain": [
       "                                             Comment Sentiment  length\n",
       "0  lets not forget that apple pay in 2014 require...   neutral     317\n",
       "1  here in nz 50 of retailers don’t even have con...  negative     163\n",
       "2  i will forever acknowledge this channel with t...  positive     183\n",
       "3  whenever i go to a place that doesn’t take app...  negative     450\n",
       "4  apple pay is so convenient secure and easy to ...  positive     135"
      ]
     },
     "execution_count": 140,
     "metadata": {},
     "output_type": "execute_result"
    }
   ],
   "source": [
    "df[\"length\"]=df[\"Comment\"].apply(len)\n",
    "df.head()"
   ]
  },
  {
   "cell_type": "code",
   "execution_count": null,
   "id": "58ce3404-7a93-4045-97e0-eb4772512953",
   "metadata": {},
   "outputs": [],
   "source": [
    "#Dzielimy komentarze na: bardzo krótkie, krótkie, średnie oraz długie"
   ]
  },
  {
   "cell_type": "code",
   "execution_count": 141,
   "id": "721a0d90-da7f-4c8c-926d-cb7a89f2bbad",
   "metadata": {},
   "outputs": [],
   "source": [
    "bins = [0,100, 250, 1000, float(\"inf\")]\n",
    "labels = [\"0-100\",\"100-250\", \"250-1000\", \"1000+\"]\n",
    "\n",
    "df[\"comment_length_bin\"] = pd.cut(df[\"length\"], bins=bins, labels=labels, right=False)\n"
   ]
  },
  {
   "cell_type": "code",
   "execution_count": 142,
   "id": "e90ec346-d312-41f7-a54b-0f61361facf2",
   "metadata": {},
   "outputs": [
    {
     "data": {
      "image/png": "[encoded data removed]",
      "text/plain": [
       "<Figure size 800x500 with 1 Axes>"
      ]
     },
     "metadata": {},
     "output_type": "display_data"
    }
   ],
   "source": [
    "plt.figure(figsize=(8, 5))\n",
    "sns.countplot(x=df[\"comment_length_bin\"], order=labels)\n",
    "plt.title(\"Comment Length Distribution \")\n",
    "plt.xlabel(\"Comment Length Range\")\n",
    "plt.ylabel(\"Count\")\n",
    "plt.show()"
   ]
  },
  {
   "cell_type": "code",
   "execution_count": 143,
   "id": "5fd4a123-a8e3-4aa8-8fba-bef547a419d1",
   "metadata": {},
   "outputs": [
    {
     "data": {
      "image/png": "[encoded data removed]",
      "text/plain": [
       "<Figure size 800x500 with 1 Axes>"
      ]
     },
     "metadata": {},
     "output_type": "display_data"
    }
   ],
   "source": [
    "plt.figure(figsize=(8, 5))\n",
    "sns.boxplot(x=\"Sentiment\", y=\"length\", data=df)\n",
    "plt.yscale(\"log\")\n",
    "plt.title(\"Comment Length by Sentiment\")\n",
    "plt.xlabel(\"Sentiment\")\n",
    "plt.ylabel(\"Comment Length\")\n",
    "plt.show()\n"
   ]
  },
  {
   "cell_type": "code",
   "execution_count": 144,
   "id": "ce49b7bb",
   "metadata": {
    "scrolled": true
   },
   "outputs": [],
   "source": [
    "## VADER\n",
    "#Wykorzystujemy bibliotekę vader która analizuje sentyment wypowiedzi na podstawie użytych w nich słów, emotikonów oraz znaków interpunkcyjnych np. \"!!!\"\n",
    "#Poszczególne kolumny vader_pos, vader_neg, vader_neu, vader_score oznaczają odpowiednio:\n",
    "#Odsetek negatywnych emocji (wartość od 0 do 1).\n",
    "#Odsetek neutralnych emocji (wartość od 0 do 1).\n",
    "#Odsetek pozytywnych emocji (wartość od 0 do 1).\n",
    "#Złożony wynik sentymentu (od -1 do +1)."
   ]
  },
  {
   "cell_type": "code",
   "execution_count": 145,
   "id": "eb4720e3",
   "metadata": {},
   "outputs": [],
   "source": [
    "sia = SentimentIntensityAnalyzer()"
   ]
  },
  {
   "cell_type": "code",
   "execution_count": 146,
   "id": "cac151b1",
   "metadata": {},
   "outputs": [],
   "source": [
    "def count_sentiment_words(comment):\n",
    "    scores = sia.polarity_scores(comment)\n",
    "    return scores['pos'], scores['neg'], scores['neu'], scores['compound']"
   ]
  },
  {
   "cell_type": "code",
   "execution_count": 147,
   "id": "a67cf0a3",
   "metadata": {},
   "outputs": [],
   "source": [
    "df[['vader_pos', 'vader_neg','vader_neu', 'vader_score']] = df['Comment'].apply(lambda x: pd.Series(count_sentiment_words(x)))"
   ]
  },
  {
   "cell_type": "code",
   "execution_count": 148,
   "id": "1c13c9d6",
   "metadata": {},
   "outputs": [
    {
     "data": {
      "text/html": [
       "<div>\n",
       "<style scoped>\n",
       "    .dataframe tbody tr th:only-of-type {\n",
       "        vertical-align: middle;\n",
       "    }\n",
       "\n",
       "    .dataframe tbody tr th {\n",
       "        vertical-align: top;\n",
       "    }\n",
       "\n",
       "    .dataframe thead th {\n",
       "        text-align: right;\n",
       "    }\n",
       "</style>\n",
       "<table border=\"1\" class=\"dataframe\">\n",
       "  <thead>\n",
       "    <tr style=\"text-align: right;\">\n",
       "      <th></th>\n",
       "      <th>Comment</th>\n",
       "      <th>Sentiment</th>\n",
       "      <th>length</th>\n",
       "      <th>comment_length_bin</th>\n",
       "      <th>vader_pos</th>\n",
       "      <th>vader_neg</th>\n",
       "      <th>vader_neu</th>\n",
       "      <th>vader_score</th>\n",
       "    </tr>\n",
       "  </thead>\n",
       "  <tbody>\n",
       "    <tr>\n",
       "      <th>0</th>\n",
       "      <td>lets not forget that apple pay in 2014 require...</td>\n",
       "      <td>neutral</td>\n",
       "      <td>317</td>\n",
       "      <td>250-1000</td>\n",
       "      <td>0.151</td>\n",
       "      <td>0.024</td>\n",
       "      <td>0.825</td>\n",
       "      <td>0.6774</td>\n",
       "    </tr>\n",
       "    <tr>\n",
       "      <th>1</th>\n",
       "      <td>here in nz 50 of retailers don’t even have con...</td>\n",
       "      <td>negative</td>\n",
       "      <td>163</td>\n",
       "      <td>100-250</td>\n",
       "      <td>0.289</td>\n",
       "      <td>0.039</td>\n",
       "      <td>0.672</td>\n",
       "      <td>0.8360</td>\n",
       "    </tr>\n",
       "    <tr>\n",
       "      <th>2</th>\n",
       "      <td>i will forever acknowledge this channel with t...</td>\n",
       "      <td>positive</td>\n",
       "      <td>183</td>\n",
       "      <td>100-250</td>\n",
       "      <td>0.295</td>\n",
       "      <td>0.000</td>\n",
       "      <td>0.705</td>\n",
       "      <td>0.8718</td>\n",
       "    </tr>\n",
       "    <tr>\n",
       "      <th>3</th>\n",
       "      <td>whenever i go to a place that doesn’t take app...</td>\n",
       "      <td>negative</td>\n",
       "      <td>450</td>\n",
       "      <td>250-1000</td>\n",
       "      <td>0.029</td>\n",
       "      <td>0.198</td>\n",
       "      <td>0.774</td>\n",
       "      <td>-0.8914</td>\n",
       "    </tr>\n",
       "    <tr>\n",
       "      <th>4</th>\n",
       "      <td>apple pay is so convenient secure and easy to ...</td>\n",
       "      <td>positive</td>\n",
       "      <td>135</td>\n",
       "      <td>100-250</td>\n",
       "      <td>0.257</td>\n",
       "      <td>0.113</td>\n",
       "      <td>0.629</td>\n",
       "      <td>0.6786</td>\n",
       "    </tr>\n",
       "  </tbody>\n",
       "</table>\n",
       "</div>"
      ],
      "text/plain": [
       "                                             Comment Sentiment  length  \\\n",
       "0  lets not forget that apple pay in 2014 require...   neutral     317   \n",
       "1  here in nz 50 of retailers don’t even have con...  negative     163   \n",
       "2  i will forever acknowledge this channel with t...  positive     183   \n",
       "3  whenever i go to a place that doesn’t take app...  negative     450   \n",
       "4  apple pay is so convenient secure and easy to ...  positive     135   \n",
       "\n",
       "  comment_length_bin  vader_pos  vader_neg  vader_neu  vader_score  \n",
       "0           250-1000      0.151      0.024      0.825       0.6774  \n",
       "1            100-250      0.289      0.039      0.672       0.8360  \n",
       "2            100-250      0.295      0.000      0.705       0.8718  \n",
       "3           250-1000      0.029      0.198      0.774      -0.8914  \n",
       "4            100-250      0.257      0.113      0.629       0.6786  "
      ]
     },
     "execution_count": 148,
     "metadata": {},
     "output_type": "execute_result"
    }
   ],
   "source": [
    "df.head()"
   ]
  },
  {
   "cell_type": "code",
   "execution_count": 149,
   "id": "96e18b26",
   "metadata": {},
   "outputs": [
    {
     "data": {
      "image/png": "[encoded data removed]",
      "text/plain": [
       "<Figure size 2000x500 with 4 Axes>"
      ]
     },
     "metadata": {},
     "output_type": "display_data"
    }
   ],
   "source": [
    "#Analiza wyników działania vadera na podstawie sentymentu wypowiedzi\n",
    "fig, axs = plt.subplots(1, 4, figsize = (20, 5))\n",
    "sns.barplot(data = df, x = 'Sentiment', y = 'vader_pos',ax = axs[0])\n",
    "sns.barplot(data = df, x = 'Sentiment', y = 'vader_neg',ax = axs[1])\n",
    "sns.barplot(data = df, x = 'Sentiment', y = 'vader_neu', ax = axs[2])\n",
    "sns.barplot(data = df, x = 'Sentiment', y = 'vader_score', ax = axs[3])\n",
    "axs[0].set_title('pos')\n",
    "axs[1].set_title('neg')\n",
    "axs[2].set_title('neu')\n",
    "axs[3].set_title('score')\n",
    "plt.tight_layout()\n",
    "plt.show()"
   ]
  },
  {
   "cell_type": "code",
   "execution_count": 150,
   "id": "d2b60d08",
   "metadata": {},
   "outputs": [],
   "source": [
    "scaler = MinMaxScaler()\n",
    "df[['vader_score_norm']] = scaler.fit_transform(df[['vader_score']])"
   ]
  },
  {
   "cell_type": "code",
   "execution_count": 151,
   "id": "bf57094e",
   "metadata": {},
   "outputs": [],
   "source": [
    "df['Clean_Comment'] = df['Comment'].str.replace(f\"[{string.punctuation}]\", \"\", regex=True)\n",
    "df['Clean_Comment'] = df['Comment'].apply(lambda x: ''.join([char.lower() for char in x if char not in string.punctuation]))\n",
    "lemmatizer = WordNetLemmatizer()\n",
    "stop_words = set(stopwords.words('english'))\n",
    "\n",
    "def is_emotional(word):\n",
    "    emotions = NRCLex(word).affect_frequencies\n",
    "    return any(value > 0 for value in emotions.values())\n",
    "\n",
    "filtered_stop_words = {word for word in stop_words if not is_emotional(word)}\n",
    "\n",
    "def preprocess_text(text):\n",
    "    if pd.isna(text):\n",
    "        return \"\"\n",
    "    \n",
    "    text = text.lower()\n",
    "    \n",
    "    text = contractions.fix(text)\n",
    "    \n",
    "    tokens = word_tokenize(text)\n",
    "    \n",
    "    tokens = [word for word in tokens if word not in filtered_stop_words]\n",
    "    \n",
    "    tokens = [lemmatizer.lemmatize(word) for word in tokens]\n",
    "    \n",
    "    tokens = [word for word in tokens if word not in punctuation]\n",
    "    \n",
    "    return \" \".join(tokens)\n",
    "df['Clean_Comment'] = df['Comment'].apply(preprocess_text)\n",
    "df['Tokenized_Comment'] = df['Clean_Comment'].apply(lambda x: x.split())"
   ]
  },
  {
   "cell_type": "code",
   "execution_count": 152,
   "id": "c159903d",
   "metadata": {},
   "outputs": [
    {
     "data": {
      "image/png": "[encoded data removed]",
      "text/plain": [
       "<Figure size 640x480 with 1 Axes>"
      ]
     },
     "metadata": {},
     "output_type": "display_data"
    }
   ],
   "source": [
    "sns.boxplot(data = df, x = 'Sentiment', y = 'vader_score_norm')\n",
    "plt.show()"
   ]
  },
  {
   "cell_type": "code",
   "execution_count": 153,
   "id": "4ccd033a",
   "metadata": {},
   "outputs": [],
   "source": [
    "#Podział danych na zbiór trenujący, testujący oraz walidujący\n",
    "X = df[['length', 'comment_length_bin', 'vader_pos', 'vader_neg', 'vader_neu', 'vader_score_norm']]\n",
    "y = df['Sentiment']\n"
   ]
  },
  {
   "cell_type": "code",
   "execution_count": 191,
   "id": "01f5823a",
   "metadata": {},
   "outputs": [
    {
     "name": "stdout",
     "output_type": "stream",
     "text": [
      "Train shape: (8997, 6), Test shape: (3857, 6), Validation shape: (5510, 6)\n"
     ]
    }
   ],
   "source": [
    "\n",
    "X_train, X_val, y_train, y_val = train_test_split(X, y, test_size=0.3, random_state=42, stratify=y)\n",
    "\n",
    "ValidationData = pd.concat([X_val, y_val], axis=1)  \n",
    "\n",
    "X_train, X_test, y_train, y_test = train_test_split(X_train, y_train, test_size=0.3, random_state=42, stratify=y_train)\n",
    "y_test = pd.DataFrame(y_test, columns=[\"Sentiment\"])\n",
    "\n",
    "\n",
    "TestData = pd.concat([X_test, y_test], axis=1)  \n",
    "TrainData = pd.concat([X_train, y_train], axis=1)  \n",
    "\n",
    "\n",
    "\n",
    "\n",
    "print(f'Train shape: {X_train.shape}, Test shape: {X_test.shape}, Validation shape: {X_val.shape}')"
   ]
  }
 ],
 "metadata": {
  "kernelspec": {
   "display_name": "Python [conda env:base] *",
   "language": "python",
   "name": "conda-base-py"
  },
  "language_info": {
   "codemirror_mode": {
    "name": "ipython",
    "version": 3
   },
   "file_extension": ".py",
   "mimetype": "text/x-python",
   "name": "python",
   "nbconvert_exporter": "python",
   "pygments_lexer": "ipython3",
   "version": "3.12.7"
  }
 },
 "nbformat": 4,
 "nbformat_minor": 5
}
