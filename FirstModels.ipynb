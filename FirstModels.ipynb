{
 "cells": [
  {
   "cell_type": "code",
   "execution_count": 1,
   "id": "e940cd53-16f5-45fa-846f-e8681bd639f5",
   "metadata": {},
   "outputs": [],
   "source": [
    "import pandas as pd\n",
    "from sklearn.model_selection import train_test_split\n",
    "from sklearn.metrics import classification_report\n",
    "from sklearn.linear_model import LogisticRegression\n",
    "from sklearn.ensemble import RandomForestClassifier\n",
    "from sklearn.svm import SVC\n",
    "from sklearn.svm import LinearSVC\n",
    "from sklearn.preprocessing import LabelEncoder\n",
    "import xgboost as xgb\n",
    "\n",
    "\n",
    "\n",
    "from xgboost import XGBClassifier\n",
    "\n",
    "\n",
    "# Wczytuje pipeline\n",
    "from pipeline import full_pipeline\n",
    "\n"
   ]
  },
  {
   "cell_type": "code",
   "execution_count": 3,
   "id": "16ca06aa-da29-4734-9e20-19872b815d8c",
   "metadata": {},
   "outputs": [],
   "source": [
    "\n",
    "\n",
    "# Wczytywanie danych\n",
    "train_df = pd.read_csv(\"Data/TrainData.csv\")\n",
    "test_df = pd.read_csv(\"Data/TestData.csv\")\n",
    "\n",
    "# Podział na X i y\n",
    "X_train_raw = train_df[['Comment']].copy()\n",
    "y_train = train_df['Sentiment']\n",
    "\n",
    "X_test_raw = test_df[['Comment']].copy()\n",
    "y_test = test_df['Sentiment']\n",
    "\n",
    "# Przekształcenie tekstu przez pipeline\n",
    "X_train_transformed = full_pipeline.fit_transform(X_train_raw)\n",
    "X_test_transformed = full_pipeline.transform(X_test_raw)\n"
   ]
  },
  {
   "cell_type": "code",
   "execution_count": null,
   "id": "5b655f0e-80e1-419f-a4af-b53aa929aad3",
   "metadata": {},
   "outputs": [],
   "source": [
    "# Modele do testowania\n",
    "\n",
    "models = {\n",
    "    \"Logistic Regression\": LogisticRegression(max_iter=200),\n",
    "    \"Random Forest\": RandomForestClassifier(n_estimators=50)\n",
    "}"
   ]
  },
  {
   "cell_type": "code",
   "execution_count": null,
   "id": "dd3ec409-5726-4a92-aa2e-dfc35de6c551",
   "metadata": {},
   "outputs": [],
   "source": [
    "for name, model in models.items():\n",
    "    print(f\"\\n🔍 Model: {name}\")\n",
    "    model.fit(X_train_transformed, y_train)\n",
    "    y_pred = model.predict(X_test_transformed)\n",
    "    print(classification_report(y_test, y_pred))"
   ]
  },
  {
   "cell_type": "code",
   "execution_count": null,
   "id": "fdd5c2cb-83b8-4e86-bdaf-45de828c4fc4",
   "metadata": {},
   "outputs": [],
   "source": [
    "models2 = {\n",
    "    \"Linear SVM (szybszy)\": LinearSVC(max_iter=10000)\n",
    "}"
   ]
  },
  {
   "cell_type": "code",
   "execution_count": null,
   "id": "a15b07e0-b3cd-4eb1-bce6-35df4f02be50",
   "metadata": {},
   "outputs": [],
   "source": [
    "for name, model in models2.items():\n",
    "    print(f\"\\n🔍 Model: {name}\")\n",
    "    model.fit(X_train_transformed, y_train)\n",
    "    y_pred = model.predict(X_test_transformed)\n",
    "    print(classification_report(y_test, y_pred))"
   ]
  },
  {
   "cell_type": "code",
   "execution_count": 5,
   "id": "9b23f360-6434-4692-bd0c-aea27123463f",
   "metadata": {},
   "outputs": [],
   "source": [
    "models3 = {\n",
    "    \"SVM (Linear, klasyczny)\": SVC(kernel='linear', probability=True)\n",
    "}"
   ]
  },
  {
   "cell_type": "code",
   "execution_count": null,
   "id": "66a3ad2a-afca-4deb-a136-2285a59d017f",
   "metadata": {},
   "outputs": [
    {
     "name": "stdout",
     "output_type": "stream",
     "text": [
      "\n",
      "🔍 Model: SVM (Linear, klasyczny)\n"
     ]
    }
   ],
   "source": [
    "for name, model in models3.items():\n",
    "    print(f\"\\n🔍 Model: {name}\")\n",
    "    model.fit(X_train_transformed, y_train)\n",
    "    y_pred = model.predict(X_test_transformed)\n",
    "    print(classification_report(y_test, y_pred))"
   ]
  }
 ],
 "metadata": {
  "kernelspec": {
   "display_name": "Python [conda env:base] *",
   "language": "python",
   "name": "conda-base-py"
  },
  "language_info": {
   "codemirror_mode": {
    "name": "ipython",
    "version": 3
   },
   "file_extension": ".py",
   "mimetype": "text/x-python",
   "name": "python",
   "nbconvert_exporter": "python",
   "pygments_lexer": "ipython3",
   "version": "3.12.7"
  }
 },
 "nbformat": 4,
 "nbformat_minor": 5
}
